{
 "cells": [
  {
   "cell_type": "markdown",
   "id": "64882f63",
   "metadata": {},
   "source": [
    "# Collatz Sequence\n",
    "\n",
    "Starting with any positive integer:\n",
    "* if n is even, the next number in the sequence is n / 2\n",
    "* if n is odd, the next number in the sequence is 3n + 1\n",
    "\n",
    "It is conjectured that every such sequence eventually reaches the number 1. \n",
    "\n",
    "Test this conjecture.\n",
    "\n",
    "Bonus: What input n <= 1000000 gives the longest sequence?"
   ]
  },
  {
   "cell_type": "markdown",
   "id": "8a56c3d4",
   "metadata": {},
   "source": [
    "## Initial Thoughts \n",
    "\n",
    "Before diving into the problem, let's think about this problem analytically. In order for the sequence to converge to 1, we must reach some odd number that, when mapped by the Collatz sequence, becomes a power of 2. So how likely do we think that is to occur for any given odd number?\n",
    "\n",
    "Let's take a sample of odd numbers and see what happens when we map them using Collatz.\n",
    "\n",
    "| N | 3*N + 1 | Is a power of 2? |\n",
    "| ---- | ---- | ---- |\n",
    "| 5 | 16 | Yes |\n",
    "| 11 | 34 | No |\n",
    "| 25 | 76 | No |\n",
    "| 37 | 112 | No |\n",
    "| 159 | 478 | No |\n",
    "| 75289 | 225868 | No |\n",
    "\n",
    "From a semi-random sample, it doesn't seem all that common to occur. But, that's alright because the sequence can continue from there.\n",
    "\n",
    "We could actually look at this situation graphically!"
   ]
  },
  {
   "cell_type": "code",
   "execution_count": 5,
   "id": "6bdb6527",
   "metadata": {},
   "outputs": [
    {
     "name": "stdout",
     "output_type": "stream",
     "text": [
      "Requirement already satisfied: plotly in c:\\users\\peter\\appdata\\roaming\\python\\python312\\site-packages (6.3.0)\n",
      "Requirement already satisfied: narwhals>=1.15.1 in c:\\users\\peter\\appdata\\roaming\\python\\python312\\site-packages (from plotly) (2.5.0)\n",
      "Requirement already satisfied: packaging in c:\\python312\\lib\\site-packages (from plotly) (24.2)\n"
     ]
    },
    {
     "name": "stderr",
     "output_type": "stream",
     "text": [
      "WARNING: Ignoring invalid distribution ~ip (C:\\Python312\\Lib\\site-packages)\n",
      "WARNING: Ignoring invalid distribution ~ip (C:\\Python312\\Lib\\site-packages)\n"
     ]
    },
    {
     "name": "stdout",
     "output_type": "stream",
     "text": [
      "Collecting nbformat\n",
      "  Downloading nbformat-5.10.4-py3-none-any.whl.metadata (3.6 kB)\n",
      "Collecting fastjsonschema>=2.15 (from nbformat)\n",
      "  Downloading fastjsonschema-2.21.2-py3-none-any.whl.metadata (2.3 kB)\n",
      "Collecting jsonschema>=2.6 (from nbformat)\n",
      "  Downloading jsonschema-4.25.1-py3-none-any.whl.metadata (7.6 kB)\n",
      "Requirement already satisfied: jupyter-core!=5.0.*,>=4.12 in c:\\users\\peter\\appdata\\roaming\\python\\python312\\site-packages (from nbformat) (5.8.1)\n",
      "Requirement already satisfied: traitlets>=5.1 in c:\\users\\peter\\appdata\\roaming\\python\\python312\\site-packages (from nbformat) (5.14.3)\n",
      "Requirement already satisfied: attrs>=22.2.0 in c:\\users\\peter\\appdata\\roaming\\python\\python312\\site-packages (from jsonschema>=2.6->nbformat) (25.3.0)\n",
      "Collecting jsonschema-specifications>=2023.03.6 (from jsonschema>=2.6->nbformat)\n",
      "  Downloading jsonschema_specifications-2025.9.1-py3-none-any.whl.metadata (2.9 kB)\n",
      "Collecting referencing>=0.28.4 (from jsonschema>=2.6->nbformat)\n",
      "  Downloading referencing-0.36.2-py3-none-any.whl.metadata (2.8 kB)\n",
      "Collecting rpds-py>=0.7.1 (from jsonschema>=2.6->nbformat)\n",
      "  Downloading rpds_py-0.27.1-cp312-cp312-win_amd64.whl.metadata (4.3 kB)\n",
      "Requirement already satisfied: platformdirs>=2.5 in c:\\users\\peter\\appdata\\roaming\\python\\python312\\site-packages (from jupyter-core!=5.0.*,>=4.12->nbformat) (4.3.8)\n",
      "Requirement already satisfied: pywin32>=300 in c:\\users\\peter\\appdata\\roaming\\python\\python312\\site-packages (from jupyter-core!=5.0.*,>=4.12->nbformat) (311)\n",
      "Requirement already satisfied: typing-extensions>=4.4.0 in c:\\users\\peter\\appdata\\roaming\\python\\python312\\site-packages (from referencing>=0.28.4->jsonschema>=2.6->nbformat) (4.15.0)\n",
      "Downloading nbformat-5.10.4-py3-none-any.whl (78 kB)\n",
      "Downloading fastjsonschema-2.21.2-py3-none-any.whl (24 kB)\n",
      "Downloading jsonschema-4.25.1-py3-none-any.whl (90 kB)\n",
      "Downloading jsonschema_specifications-2025.9.1-py3-none-any.whl (18 kB)\n",
      "Downloading referencing-0.36.2-py3-none-any.whl (26 kB)\n",
      "Downloading rpds_py-0.27.1-cp312-cp312-win_amd64.whl (232 kB)\n",
      "Installing collected packages: fastjsonschema, rpds-py, referencing, jsonschema-specifications, jsonschema, nbformat\n",
      "\n",
      "   ---------------------------------------- 0/6 [fastjsonschema]\n",
      "   ------ --------------------------------- 1/6 [rpds-py]\n",
      "   ------------- -------------------------- 2/6 [referencing]\n",
      "   -------------------- ------------------- 3/6 [jsonschema-specifications]\n",
      "   -------------------- ------------------- 3/6 [jsonschema-specifications]\n",
      "   -------------------------- ------------- 4/6 [jsonschema]\n",
      "   -------------------------- ------------- 4/6 [jsonschema]\n",
      "   -------------------------- ------------- 4/6 [jsonschema]\n",
      "   -------------------------- ------------- 4/6 [jsonschema]\n",
      "   --------------------------------- ------ 5/6 [nbformat]\n",
      "   --------------------------------- ------ 5/6 [nbformat]\n",
      "   --------------------------------- ------ 5/6 [nbformat]\n",
      "   --------------------------------- ------ 5/6 [nbformat]\n",
      "   --------------------------------- ------ 5/6 [nbformat]\n",
      "   --------------------------------- ------ 5/6 [nbformat]\n",
      "   --------------------------------- ------ 5/6 [nbformat]\n",
      "   ---------------------------------------- 6/6 [nbformat]\n",
      "\n",
      "Successfully installed fastjsonschema-2.21.2 jsonschema-4.25.1 jsonschema-specifications-2025.9.1 nbformat-5.10.4 referencing-0.36.2 rpds-py-0.27.1\n"
     ]
    },
    {
     "name": "stderr",
     "output_type": "stream",
     "text": [
      "WARNING: Ignoring invalid distribution ~ip (C:\\Python312\\Lib\\site-packages)\n",
      "WARNING: Ignoring invalid distribution ~ip (C:\\Python312\\Lib\\site-packages)\n"
     ]
    }
   ],
   "source": [
    "!pip install --user plotly\n",
    "!pip install --user nbformat"
   ]
  },
  {
   "cell_type": "code",
   "execution_count": 7,
   "id": "a9c530f8",
   "metadata": {},
   "outputs": [
    {
     "data": {
      "application/vnd.plotly.v1+json": {
       "config": {
        "plotlyServerURL": "https://plot.ly"
       },
       "data": [
        {
         "mode": "lines+markers",
         "name": "Odd Numbers",
         "type": "scatter",
         "x": [
          1,
          2,
          3,
          4,
          5,
          6,
          7,
          8,
          9
         ],
         "y": [
          1,
          3,
          5,
          7,
          9,
          11,
          13,
          15,
          17
         ]
        },
        {
         "mode": "lines+markers",
         "name": "Collatz Odd Mapping",
         "type": "scatter",
         "x": [
          1,
          3,
          5,
          7,
          9,
          11,
          13,
          15,
          17
         ],
         "y": [
          4,
          10,
          16,
          22,
          28,
          34,
          40,
          46,
          52
         ]
        },
        {
         "mode": "lines+markers",
         "name": "Powers of 2",
         "type": "scatter",
         "x": [
          1,
          3,
          5,
          7,
          9,
          11,
          13,
          15,
          17
         ],
         "y": [
          2,
          4,
          8,
          16,
          32,
          64,
          128,
          256,
          512
         ]
        }
       ],
       "layout": {
        "template": {
         "data": {
          "bar": [
           {
            "error_x": {
             "color": "#2a3f5f"
            },
            "error_y": {
             "color": "#2a3f5f"
            },
            "marker": {
             "line": {
              "color": "#E5ECF6",
              "width": 0.5
             },
             "pattern": {
              "fillmode": "overlay",
              "size": 10,
              "solidity": 0.2
             }
            },
            "type": "bar"
           }
          ],
          "barpolar": [
           {
            "marker": {
             "line": {
              "color": "#E5ECF6",
              "width": 0.5
             },
             "pattern": {
              "fillmode": "overlay",
              "size": 10,
              "solidity": 0.2
             }
            },
            "type": "barpolar"
           }
          ],
          "carpet": [
           {
            "aaxis": {
             "endlinecolor": "#2a3f5f",
             "gridcolor": "white",
             "linecolor": "white",
             "minorgridcolor": "white",
             "startlinecolor": "#2a3f5f"
            },
            "baxis": {
             "endlinecolor": "#2a3f5f",
             "gridcolor": "white",
             "linecolor": "white",
             "minorgridcolor": "white",
             "startlinecolor": "#2a3f5f"
            },
            "type": "carpet"
           }
          ],
          "choropleth": [
           {
            "colorbar": {
             "outlinewidth": 0,
             "ticks": ""
            },
            "type": "choropleth"
           }
          ],
          "contour": [
           {
            "colorbar": {
             "outlinewidth": 0,
             "ticks": ""
            },
            "colorscale": [
             [
              0,
              "#0d0887"
             ],
             [
              0.1111111111111111,
              "#46039f"
             ],
             [
              0.2222222222222222,
              "#7201a8"
             ],
             [
              0.3333333333333333,
              "#9c179e"
             ],
             [
              0.4444444444444444,
              "#bd3786"
             ],
             [
              0.5555555555555556,
              "#d8576b"
             ],
             [
              0.6666666666666666,
              "#ed7953"
             ],
             [
              0.7777777777777778,
              "#fb9f3a"
             ],
             [
              0.8888888888888888,
              "#fdca26"
             ],
             [
              1,
              "#f0f921"
             ]
            ],
            "type": "contour"
           }
          ],
          "contourcarpet": [
           {
            "colorbar": {
             "outlinewidth": 0,
             "ticks": ""
            },
            "type": "contourcarpet"
           }
          ],
          "heatmap": [
           {
            "colorbar": {
             "outlinewidth": 0,
             "ticks": ""
            },
            "colorscale": [
             [
              0,
              "#0d0887"
             ],
             [
              0.1111111111111111,
              "#46039f"
             ],
             [
              0.2222222222222222,
              "#7201a8"
             ],
             [
              0.3333333333333333,
              "#9c179e"
             ],
             [
              0.4444444444444444,
              "#bd3786"
             ],
             [
              0.5555555555555556,
              "#d8576b"
             ],
             [
              0.6666666666666666,
              "#ed7953"
             ],
             [
              0.7777777777777778,
              "#fb9f3a"
             ],
             [
              0.8888888888888888,
              "#fdca26"
             ],
             [
              1,
              "#f0f921"
             ]
            ],
            "type": "heatmap"
           }
          ],
          "histogram": [
           {
            "marker": {
             "pattern": {
              "fillmode": "overlay",
              "size": 10,
              "solidity": 0.2
             }
            },
            "type": "histogram"
           }
          ],
          "histogram2d": [
           {
            "colorbar": {
             "outlinewidth": 0,
             "ticks": ""
            },
            "colorscale": [
             [
              0,
              "#0d0887"
             ],
             [
              0.1111111111111111,
              "#46039f"
             ],
             [
              0.2222222222222222,
              "#7201a8"
             ],
             [
              0.3333333333333333,
              "#9c179e"
             ],
             [
              0.4444444444444444,
              "#bd3786"
             ],
             [
              0.5555555555555556,
              "#d8576b"
             ],
             [
              0.6666666666666666,
              "#ed7953"
             ],
             [
              0.7777777777777778,
              "#fb9f3a"
             ],
             [
              0.8888888888888888,
              "#fdca26"
             ],
             [
              1,
              "#f0f921"
             ]
            ],
            "type": "histogram2d"
           }
          ],
          "histogram2dcontour": [
           {
            "colorbar": {
             "outlinewidth": 0,
             "ticks": ""
            },
            "colorscale": [
             [
              0,
              "#0d0887"
             ],
             [
              0.1111111111111111,
              "#46039f"
             ],
             [
              0.2222222222222222,
              "#7201a8"
             ],
             [
              0.3333333333333333,
              "#9c179e"
             ],
             [
              0.4444444444444444,
              "#bd3786"
             ],
             [
              0.5555555555555556,
              "#d8576b"
             ],
             [
              0.6666666666666666,
              "#ed7953"
             ],
             [
              0.7777777777777778,
              "#fb9f3a"
             ],
             [
              0.8888888888888888,
              "#fdca26"
             ],
             [
              1,
              "#f0f921"
             ]
            ],
            "type": "histogram2dcontour"
           }
          ],
          "mesh3d": [
           {
            "colorbar": {
             "outlinewidth": 0,
             "ticks": ""
            },
            "type": "mesh3d"
           }
          ],
          "parcoords": [
           {
            "line": {
             "colorbar": {
              "outlinewidth": 0,
              "ticks": ""
             }
            },
            "type": "parcoords"
           }
          ],
          "pie": [
           {
            "automargin": true,
            "type": "pie"
           }
          ],
          "scatter": [
           {
            "fillpattern": {
             "fillmode": "overlay",
             "size": 10,
             "solidity": 0.2
            },
            "type": "scatter"
           }
          ],
          "scatter3d": [
           {
            "line": {
             "colorbar": {
              "outlinewidth": 0,
              "ticks": ""
             }
            },
            "marker": {
             "colorbar": {
              "outlinewidth": 0,
              "ticks": ""
             }
            },
            "type": "scatter3d"
           }
          ],
          "scattercarpet": [
           {
            "marker": {
             "colorbar": {
              "outlinewidth": 0,
              "ticks": ""
             }
            },
            "type": "scattercarpet"
           }
          ],
          "scattergeo": [
           {
            "marker": {
             "colorbar": {
              "outlinewidth": 0,
              "ticks": ""
             }
            },
            "type": "scattergeo"
           }
          ],
          "scattergl": [
           {
            "marker": {
             "colorbar": {
              "outlinewidth": 0,
              "ticks": ""
             }
            },
            "type": "scattergl"
           }
          ],
          "scattermap": [
           {
            "marker": {
             "colorbar": {
              "outlinewidth": 0,
              "ticks": ""
             }
            },
            "type": "scattermap"
           }
          ],
          "scattermapbox": [
           {
            "marker": {
             "colorbar": {
              "outlinewidth": 0,
              "ticks": ""
             }
            },
            "type": "scattermapbox"
           }
          ],
          "scatterpolar": [
           {
            "marker": {
             "colorbar": {
              "outlinewidth": 0,
              "ticks": ""
             }
            },
            "type": "scatterpolar"
           }
          ],
          "scatterpolargl": [
           {
            "marker": {
             "colorbar": {
              "outlinewidth": 0,
              "ticks": ""
             }
            },
            "type": "scatterpolargl"
           }
          ],
          "scatterternary": [
           {
            "marker": {
             "colorbar": {
              "outlinewidth": 0,
              "ticks": ""
             }
            },
            "type": "scatterternary"
           }
          ],
          "surface": [
           {
            "colorbar": {
             "outlinewidth": 0,
             "ticks": ""
            },
            "colorscale": [
             [
              0,
              "#0d0887"
             ],
             [
              0.1111111111111111,
              "#46039f"
             ],
             [
              0.2222222222222222,
              "#7201a8"
             ],
             [
              0.3333333333333333,
              "#9c179e"
             ],
             [
              0.4444444444444444,
              "#bd3786"
             ],
             [
              0.5555555555555556,
              "#d8576b"
             ],
             [
              0.6666666666666666,
              "#ed7953"
             ],
             [
              0.7777777777777778,
              "#fb9f3a"
             ],
             [
              0.8888888888888888,
              "#fdca26"
             ],
             [
              1,
              "#f0f921"
             ]
            ],
            "type": "surface"
           }
          ],
          "table": [
           {
            "cells": {
             "fill": {
              "color": "#EBF0F8"
             },
             "line": {
              "color": "white"
             }
            },
            "header": {
             "fill": {
              "color": "#C8D4E3"
             },
             "line": {
              "color": "white"
             }
            },
            "type": "table"
           }
          ]
         },
         "layout": {
          "annotationdefaults": {
           "arrowcolor": "#2a3f5f",
           "arrowhead": 0,
           "arrowwidth": 1
          },
          "autotypenumbers": "strict",
          "coloraxis": {
           "colorbar": {
            "outlinewidth": 0,
            "ticks": ""
           }
          },
          "colorscale": {
           "diverging": [
            [
             0,
             "#8e0152"
            ],
            [
             0.1,
             "#c51b7d"
            ],
            [
             0.2,
             "#de77ae"
            ],
            [
             0.3,
             "#f1b6da"
            ],
            [
             0.4,
             "#fde0ef"
            ],
            [
             0.5,
             "#f7f7f7"
            ],
            [
             0.6,
             "#e6f5d0"
            ],
            [
             0.7,
             "#b8e186"
            ],
            [
             0.8,
             "#7fbc41"
            ],
            [
             0.9,
             "#4d9221"
            ],
            [
             1,
             "#276419"
            ]
           ],
           "sequential": [
            [
             0,
             "#0d0887"
            ],
            [
             0.1111111111111111,
             "#46039f"
            ],
            [
             0.2222222222222222,
             "#7201a8"
            ],
            [
             0.3333333333333333,
             "#9c179e"
            ],
            [
             0.4444444444444444,
             "#bd3786"
            ],
            [
             0.5555555555555556,
             "#d8576b"
            ],
            [
             0.6666666666666666,
             "#ed7953"
            ],
            [
             0.7777777777777778,
             "#fb9f3a"
            ],
            [
             0.8888888888888888,
             "#fdca26"
            ],
            [
             1,
             "#f0f921"
            ]
           ],
           "sequentialminus": [
            [
             0,
             "#0d0887"
            ],
            [
             0.1111111111111111,
             "#46039f"
            ],
            [
             0.2222222222222222,
             "#7201a8"
            ],
            [
             0.3333333333333333,
             "#9c179e"
            ],
            [
             0.4444444444444444,
             "#bd3786"
            ],
            [
             0.5555555555555556,
             "#d8576b"
            ],
            [
             0.6666666666666666,
             "#ed7953"
            ],
            [
             0.7777777777777778,
             "#fb9f3a"
            ],
            [
             0.8888888888888888,
             "#fdca26"
            ],
            [
             1,
             "#f0f921"
            ]
           ]
          },
          "colorway": [
           "#636efa",
           "#EF553B",
           "#00cc96",
           "#ab63fa",
           "#FFA15A",
           "#19d3f3",
           "#FF6692",
           "#B6E880",
           "#FF97FF",
           "#FECB52"
          ],
          "font": {
           "color": "#2a3f5f"
          },
          "geo": {
           "bgcolor": "white",
           "lakecolor": "white",
           "landcolor": "#E5ECF6",
           "showlakes": true,
           "showland": true,
           "subunitcolor": "white"
          },
          "hoverlabel": {
           "align": "left"
          },
          "hovermode": "closest",
          "mapbox": {
           "style": "light"
          },
          "paper_bgcolor": "white",
          "plot_bgcolor": "#E5ECF6",
          "polar": {
           "angularaxis": {
            "gridcolor": "white",
            "linecolor": "white",
            "ticks": ""
           },
           "bgcolor": "#E5ECF6",
           "radialaxis": {
            "gridcolor": "white",
            "linecolor": "white",
            "ticks": ""
           }
          },
          "scene": {
           "xaxis": {
            "backgroundcolor": "#E5ECF6",
            "gridcolor": "white",
            "gridwidth": 2,
            "linecolor": "white",
            "showbackground": true,
            "ticks": "",
            "zerolinecolor": "white"
           },
           "yaxis": {
            "backgroundcolor": "#E5ECF6",
            "gridcolor": "white",
            "gridwidth": 2,
            "linecolor": "white",
            "showbackground": true,
            "ticks": "",
            "zerolinecolor": "white"
           },
           "zaxis": {
            "backgroundcolor": "#E5ECF6",
            "gridcolor": "white",
            "gridwidth": 2,
            "linecolor": "white",
            "showbackground": true,
            "ticks": "",
            "zerolinecolor": "white"
           }
          },
          "shapedefaults": {
           "line": {
            "color": "#2a3f5f"
           }
          },
          "ternary": {
           "aaxis": {
            "gridcolor": "white",
            "linecolor": "white",
            "ticks": ""
           },
           "baxis": {
            "gridcolor": "white",
            "linecolor": "white",
            "ticks": ""
           },
           "bgcolor": "#E5ECF6",
           "caxis": {
            "gridcolor": "white",
            "linecolor": "white",
            "ticks": ""
           }
          },
          "title": {
           "x": 0.05
          },
          "xaxis": {
           "automargin": true,
           "gridcolor": "white",
           "linecolor": "white",
           "ticks": "",
           "title": {
            "standoff": 15
           },
           "zerolinecolor": "white",
           "zerolinewidth": 2
          },
          "yaxis": {
           "automargin": true,
           "gridcolor": "white",
           "linecolor": "white",
           "ticks": "",
           "title": {
            "standoff": 15
           },
           "zerolinecolor": "white",
           "zerolinewidth": 2
          }
         }
        }
       }
      }
     },
     "metadata": {},
     "output_type": "display_data"
    }
   ],
   "source": [
    "import plotly.graph_objects as go\n",
    "\n",
    "X = [i for i in range(1, 10)]\n",
    "oddN = [2 * i - 1 for i in X]\n",
    "collatzOddMap = [3*i + 1 for i in oddN]\n",
    "powersOf2 = [2**i for i in X]\n",
    "\n",
    "fig = go.Figure()\n",
    "fig.add_trace(go.Scatter(x=X, y=oddN, mode='lines+markers', name='Odd Numbers'))\n",
    "fig.add_trace(go.Scatter(x=oddN, y=collatzOddMap, mode='lines+markers', name='Collatz Odd Mapping'))\n",
    "fig.add_trace(go.Scatter(x=oddN, y=powersOf2, mode='lines+markers', name='Powers of 2'))\n",
    "fig.show()"
   ]
  },
  {
   "cell_type": "markdown",
   "id": "15bce2a4",
   "metadata": {},
   "source": [
    "# Bonus\n",
    "\n",
    "Let's figure out how long is the longest sequence where starting N <= 1,000,000"
   ]
  },
  {
   "cell_type": "code",
   "execution_count": null,
   "id": "06dbaca0",
   "metadata": {},
   "outputs": [
    {
     "name": "stdout",
     "output_type": "stream",
     "text": [
      "N=1, sequence has converged, sequence length is: 2\n",
      "When N=1, Sequence Length is: 2\n",
      "N=1.0, sequence has converged, sequence length is: 3\n",
      "When N=2, Sequence Length is: 2\n",
      "N=1.0, sequence has converged, sequence length is: 9\n",
      "When N=3, Sequence Length is: 2\n",
      "N=1.0, sequence has converged, sequence length is: 4\n",
      "When N=4, Sequence Length is: 2\n",
      "N=1.0, sequence has converged, sequence length is: 7\n",
      "When N=5, Sequence Length is: 2\n",
      "N=1.0, sequence has converged, sequence length is: 10\n",
      "When N=6, Sequence Length is: 2\n",
      "N=1.0, sequence has converged, sequence length is: 18\n",
      "When N=7, Sequence Length is: 2\n",
      "N=1.0, sequence has converged, sequence length is: 5\n",
      "When N=8, Sequence Length is: 2\n",
      "N=1.0, sequence has converged, sequence length is: 21\n",
      "When N=9, Sequence Length is: 2\n",
      "N=1.0, sequence has converged, sequence length is: 8\n",
      "When N=10, Sequence Length is: 2\n",
      "N=1.0, sequence has converged, sequence length is: 16\n",
      "When N=11, Sequence Length is: 2\n",
      "N=1.0, sequence has converged, sequence length is: 11\n",
      "When N=12, Sequence Length is: 2\n",
      "N=1.0, sequence has converged, sequence length is: 11\n",
      "When N=13, Sequence Length is: 2\n",
      "N=1.0, sequence has converged, sequence length is: 19\n",
      "When N=14, Sequence Length is: 2\n",
      "N=1.0, sequence has converged, sequence length is: 19\n",
      "When N=15, Sequence Length is: 2\n",
      "N=1.0, sequence has converged, sequence length is: 6\n",
      "When N=16, Sequence Length is: 2\n",
      "N=1.0, sequence has converged, sequence length is: 14\n",
      "When N=17, Sequence Length is: 2\n",
      "N=1.0, sequence has converged, sequence length is: 22\n",
      "When N=18, Sequence Length is: 2\n",
      "N=1.0, sequence has converged, sequence length is: 22\n",
      "When N=19, Sequence Length is: 2\n",
      "N=1.0, sequence has converged, sequence length is: 9\n",
      "When N=20, Sequence Length is: 2\n",
      "N=1.0, sequence has converged, sequence length is: 9\n",
      "When N=21, Sequence Length is: 2\n",
      "N=1.0, sequence has converged, sequence length is: 17\n",
      "When N=22, Sequence Length is: 2\n",
      "N=1.0, sequence has converged, sequence length is: 17\n",
      "When N=23, Sequence Length is: 2\n",
      "N=1.0, sequence has converged, sequence length is: 12\n",
      "When N=24, Sequence Length is: 2\n",
      "N=1.0, sequence has converged, sequence length is: 25\n",
      "When N=25, Sequence Length is: 2\n",
      "N=1.0, sequence has converged, sequence length is: 12\n",
      "When N=26, Sequence Length is: 2\n",
      "N=1.0, sequence has converged, sequence length is: 113\n",
      "When N=27, Sequence Length is: 2\n",
      "N=1.0, sequence has converged, sequence length is: 20\n",
      "When N=28, Sequence Length is: 2\n",
      "N=1.0, sequence has converged, sequence length is: 20\n",
      "When N=29, Sequence Length is: 2\n",
      "N=1.0, sequence has converged, sequence length is: 20\n",
      "When N=30, Sequence Length is: 2\n",
      "N=1.0, sequence has converged, sequence length is: 108\n",
      "When N=31, Sequence Length is: 2\n",
      "N=1.0, sequence has converged, sequence length is: 7\n",
      "When N=32, Sequence Length is: 2\n",
      "N=1.0, sequence has converged, sequence length is: 28\n",
      "When N=33, Sequence Length is: 2\n",
      "N=1.0, sequence has converged, sequence length is: 15\n",
      "When N=34, Sequence Length is: 2\n",
      "N=1.0, sequence has converged, sequence length is: 15\n",
      "When N=35, Sequence Length is: 2\n",
      "N=1.0, sequence has converged, sequence length is: 23\n",
      "When N=36, Sequence Length is: 2\n",
      "N=1.0, sequence has converged, sequence length is: 23\n",
      "When N=37, Sequence Length is: 2\n",
      "N=1.0, sequence has converged, sequence length is: 23\n",
      "When N=38, Sequence Length is: 2\n",
      "N=1.0, sequence has converged, sequence length is: 36\n",
      "When N=39, Sequence Length is: 2\n",
      "N=1.0, sequence has converged, sequence length is: 10\n",
      "When N=40, Sequence Length is: 2\n",
      "N=1.0, sequence has converged, sequence length is: 111\n",
      "When N=41, Sequence Length is: 2\n",
      "N=1.0, sequence has converged, sequence length is: 10\n",
      "When N=42, Sequence Length is: 2\n",
      "N=1.0, sequence has converged, sequence length is: 31\n",
      "When N=43, Sequence Length is: 2\n",
      "N=1.0, sequence has converged, sequence length is: 18\n",
      "When N=44, Sequence Length is: 2\n",
      "N=1.0, sequence has converged, sequence length is: 18\n",
      "When N=45, Sequence Length is: 2\n",
      "N=1.0, sequence has converged, sequence length is: 18\n",
      "When N=46, Sequence Length is: 2\n",
      "N=1.0, sequence has converged, sequence length is: 106\n",
      "When N=47, Sequence Length is: 2\n",
      "N=1.0, sequence has converged, sequence length is: 13\n",
      "When N=48, Sequence Length is: 2\n",
      "N=1.0, sequence has converged, sequence length is: 26\n",
      "When N=49, Sequence Length is: 2\n",
      "N=1.0, sequence has converged, sequence length is: 26\n",
      "When N=50, Sequence Length is: 2\n",
      "N=1.0, sequence has converged, sequence length is: 26\n",
      "When N=51, Sequence Length is: 2\n",
      "N=1.0, sequence has converged, sequence length is: 13\n",
      "When N=52, Sequence Length is: 2\n",
      "N=1.0, sequence has converged, sequence length is: 13\n",
      "When N=53, Sequence Length is: 2\n",
      "N=1.0, sequence has converged, sequence length is: 114\n",
      "When N=54, Sequence Length is: 2\n",
      "N=1.0, sequence has converged, sequence length is: 114\n",
      "When N=55, Sequence Length is: 2\n",
      "N=1.0, sequence has converged, sequence length is: 21\n",
      "When N=56, Sequence Length is: 2\n",
      "N=1.0, sequence has converged, sequence length is: 34\n",
      "When N=57, Sequence Length is: 2\n",
      "N=1.0, sequence has converged, sequence length is: 21\n",
      "When N=58, Sequence Length is: 2\n",
      "N=1.0, sequence has converged, sequence length is: 34\n",
      "When N=59, Sequence Length is: 2\n",
      "N=1.0, sequence has converged, sequence length is: 21\n",
      "When N=60, Sequence Length is: 2\n",
      "N=1.0, sequence has converged, sequence length is: 21\n",
      "When N=61, Sequence Length is: 2\n",
      "N=1.0, sequence has converged, sequence length is: 109\n",
      "When N=62, Sequence Length is: 2\n",
      "N=1.0, sequence has converged, sequence length is: 109\n",
      "When N=63, Sequence Length is: 2\n",
      "N=1.0, sequence has converged, sequence length is: 8\n",
      "When N=64, Sequence Length is: 2\n",
      "N=1.0, sequence has converged, sequence length is: 29\n",
      "When N=65, Sequence Length is: 2\n",
      "N=1.0, sequence has converged, sequence length is: 29\n",
      "When N=66, Sequence Length is: 2\n",
      "N=1.0, sequence has converged, sequence length is: 29\n",
      "When N=67, Sequence Length is: 2\n",
      "N=1.0, sequence has converged, sequence length is: 16\n",
      "When N=68, Sequence Length is: 2\n",
      "N=1.0, sequence has converged, sequence length is: 16\n",
      "When N=69, Sequence Length is: 2\n",
      "N=1.0, sequence has converged, sequence length is: 16\n",
      "When N=70, Sequence Length is: 2\n",
      "N=1.0, sequence has converged, sequence length is: 104\n",
      "When N=71, Sequence Length is: 2\n",
      "N=1.0, sequence has converged, sequence length is: 24\n",
      "When N=72, Sequence Length is: 2\n",
      "N=1.0, sequence has converged, sequence length is: 117\n",
      "When N=73, Sequence Length is: 2\n",
      "N=1.0, sequence has converged, sequence length is: 24\n",
      "When N=74, Sequence Length is: 2\n",
      "N=1.0, sequence has converged, sequence length is: 16\n",
      "When N=75, Sequence Length is: 2\n",
      "N=1.0, sequence has converged, sequence length is: 24\n",
      "When N=76, Sequence Length is: 2\n",
      "N=1.0, sequence has converged, sequence length is: 24\n",
      "When N=77, Sequence Length is: 2\n",
      "N=1.0, sequence has converged, sequence length is: 37\n",
      "When N=78, Sequence Length is: 2\n",
      "N=1.0, sequence has converged, sequence length is: 37\n",
      "When N=79, Sequence Length is: 2\n",
      "N=1.0, sequence has converged, sequence length is: 11\n",
      "When N=80, Sequence Length is: 2\n",
      "N=1.0, sequence has converged, sequence length is: 24\n",
      "When N=81, Sequence Length is: 2\n",
      "N=1.0, sequence has converged, sequence length is: 112\n",
      "When N=82, Sequence Length is: 2\n",
      "N=1.0, sequence has converged, sequence length is: 112\n",
      "When N=83, Sequence Length is: 2\n",
      "N=1.0, sequence has converged, sequence length is: 11\n",
      "When N=84, Sequence Length is: 2\n",
      "N=1.0, sequence has converged, sequence length is: 11\n",
      "When N=85, Sequence Length is: 2\n",
      "N=1.0, sequence has converged, sequence length is: 32\n",
      "When N=86, Sequence Length is: 2\n",
      "N=1.0, sequence has converged, sequence length is: 32\n",
      "When N=87, Sequence Length is: 2\n",
      "N=1.0, sequence has converged, sequence length is: 19\n",
      "When N=88, Sequence Length is: 2\n",
      "N=1.0, sequence has converged, sequence length is: 32\n",
      "When N=89, Sequence Length is: 2\n",
      "N=1.0, sequence has converged, sequence length is: 19\n",
      "When N=90, Sequence Length is: 2\n",
      "N=1.0, sequence has converged, sequence length is: 94\n",
      "When N=91, Sequence Length is: 2\n",
      "N=1.0, sequence has converged, sequence length is: 19\n",
      "When N=92, Sequence Length is: 2\n",
      "N=1.0, sequence has converged, sequence length is: 19\n",
      "When N=93, Sequence Length is: 2\n",
      "N=1.0, sequence has converged, sequence length is: 107\n",
      "When N=94, Sequence Length is: 2\n",
      "N=1.0, sequence has converged, sequence length is: 107\n",
      "When N=95, Sequence Length is: 2\n",
      "N=1.0, sequence has converged, sequence length is: 14\n",
      "When N=96, Sequence Length is: 2\n",
      "N=1.0, sequence has converged, sequence length is: 120\n",
      "When N=97, Sequence Length is: 2\n",
      "N=1.0, sequence has converged, sequence length is: 27\n",
      "When N=98, Sequence Length is: 2\n",
      "N=1.0, sequence has converged, sequence length is: 27\n",
      "When N=99, Sequence Length is: 2\n",
      "Max Sequence Length Where N <= 1000000 is: 2\n"
     ]
    }
   ],
   "source": [
    "def next_collatz(N, counter):\n",
    "    _counter = counter\n",
    "    _counter += 1\n",
    "    if N < 1:\n",
    "        return None\n",
    "    if N == 1:\n",
    "        print(f'N={N}, sequence has converged, sequence length is: {_counter}')\n",
    "    elif N % 2 == 0:\n",
    "        # print(f'N={N} is even, sequence length is: {_counter}')\n",
    "        next_collatz(N/2, _counter)\n",
    "    else:\n",
    "        # print(f'N={N} is odd, sequence length is: {_counter}')\n",
    "        next_collatz(3*N + 1, _counter)\n",
    "    return _counter\n",
    "\n",
    "max_seq_len = 1\n",
    "for i in range(1,100):\n",
    "    i_seq_len = next_collatz(i, 1)\n",
    "    print(f'When N={i}, Sequence Length is: {i_seq_len}')\n",
    "    if i_seq_len > max_seq_len:\n",
    "        max_seq_len = i_seq_len\n",
    "\n",
    "print(f'Max Sequence Length Where N <= 1000000 is: {max_seq_len}')"
   ]
  }
 ],
 "metadata": {
  "kernelspec": {
   "display_name": "Python 3",
   "language": "python",
   "name": "python3"
  },
  "language_info": {
   "codemirror_mode": {
    "name": "ipython",
    "version": 3
   },
   "file_extension": ".py",
   "mimetype": "text/x-python",
   "name": "python",
   "nbconvert_exporter": "python",
   "pygments_lexer": "ipython3",
   "version": "3.12.0"
  }
 },
 "nbformat": 4,
 "nbformat_minor": 5
}
