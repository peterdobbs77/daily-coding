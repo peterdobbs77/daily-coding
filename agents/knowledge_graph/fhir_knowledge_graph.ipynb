{
 "cells": [
  {
   "cell_type": "markdown",
   "id": "2349bc7f",
   "metadata": {},
   "source": [
    "This notebook is based on lessons from [DeepLearning.AI](https://www.deeplearning.ai/)."
   ]
  },
  {
   "cell_type": "code",
   "execution_count": 2,
   "id": "47c91d33",
   "metadata": {},
   "outputs": [
    {
     "name": "stdout",
     "output_type": "stream",
     "text": [
      "Collecting fhir.resources\n",
      "  Downloading fhir_resources-8.1.0-py2.py3-none-any.whl.metadata (49 kB)\n",
      "Collecting rdflib\n",
      "  Downloading rdflib-7.2.1-py3-none-any.whl.metadata (11 kB)\n",
      "Collecting fhir-core>=1.1.3 (from fhir.resources)\n",
      "  Downloading fhir_core-1.1.4-py2.py3-none-any.whl.metadata (11 kB)\n",
      "Requirement already satisfied: pyparsing<4,>=2.1.0 in c:\\python312\\lib\\site-packages (from rdflib) (3.2.3)\n",
      "Requirement already satisfied: pydantic<3.0,>=2.7.4 in c:\\users\\peter\\appdata\\roaming\\python\\python312\\site-packages (from fhir-core>=1.1.3->fhir.resources) (2.11.9)\n",
      "Requirement already satisfied: annotated-types>=0.6.0 in c:\\users\\peter\\appdata\\roaming\\python\\python312\\site-packages (from pydantic<3.0,>=2.7.4->fhir-core>=1.1.3->fhir.resources) (0.7.0)\n",
      "Requirement already satisfied: pydantic-core==2.33.2 in c:\\python312\\lib\\site-packages (from pydantic<3.0,>=2.7.4->fhir-core>=1.1.3->fhir.resources) (2.33.2)\n",
      "Requirement already satisfied: typing-extensions>=4.12.2 in c:\\users\\peter\\appdata\\roaming\\python\\python312\\site-packages (from pydantic<3.0,>=2.7.4->fhir-core>=1.1.3->fhir.resources) (4.15.0)\n",
      "Requirement already satisfied: typing-inspection>=0.4.0 in c:\\python312\\lib\\site-packages (from pydantic<3.0,>=2.7.4->fhir-core>=1.1.3->fhir.resources) (0.4.1)\n",
      "Downloading fhir_resources-8.1.0-py2.py3-none-any.whl (2.3 MB)\n",
      "   ---------------------------------------- 0.0/2.3 MB ? eta -:--:--\n",
      "   -------------------------------- ------- 1.8/2.3 MB 11.2 MB/s eta 0:00:01\n",
      "   ---------------------------------------- 2.3/2.3 MB 9.2 MB/s  0:00:00\n",
      "Downloading rdflib-7.2.1-py3-none-any.whl (565 kB)\n",
      "   ---------------------------------------- 0.0/565.4 kB ? eta -:--:--\n",
      "   ---------------------------------------- 565.4/565.4 kB 6.5 MB/s  0:00:00\n",
      "Downloading fhir_core-1.1.4-py2.py3-none-any.whl (29 kB)\n",
      "Installing collected packages: rdflib, fhir-core, fhir.resources\n",
      "\n",
      "   ---------------------------------------- 0/3 [rdflib]\n",
      "   ---------------------------------------- 0/3 [rdflib]\n",
      "   ---------------------------------------- 0/3 [rdflib]\n",
      "   ---------------------------------------- 0/3 [rdflib]\n",
      "   ---------------------------------------- 0/3 [rdflib]\n",
      "   ---------------------------------------- 0/3 [rdflib]\n",
      "   ---------------------------------------- 0/3 [rdflib]\n",
      "   ------------- -------------------------- 1/3 [fhir-core]\n",
      "   -------------------------- ------------- 2/3 [fhir.resources]\n",
      "   -------------------------- ------------- 2/3 [fhir.resources]\n",
      "   -------------------------- ------------- 2/3 [fhir.resources]\n",
      "   -------------------------- ------------- 2/3 [fhir.resources]\n",
      "   -------------------------- ------------- 2/3 [fhir.resources]\n",
      "   -------------------------- ------------- 2/3 [fhir.resources]\n",
      "   -------------------------- ------------- 2/3 [fhir.resources]\n",
      "   -------------------------- ------------- 2/3 [fhir.resources]\n",
      "   -------------------------- ------------- 2/3 [fhir.resources]\n",
      "   -------------------------- ------------- 2/3 [fhir.resources]\n",
      "   -------------------------- ------------- 2/3 [fhir.resources]\n",
      "   -------------------------- ------------- 2/3 [fhir.resources]\n",
      "   -------------------------- ------------- 2/3 [fhir.resources]\n",
      "   -------------------------- ------------- 2/3 [fhir.resources]\n",
      "   -------------------------- ------------- 2/3 [fhir.resources]\n",
      "   -------------------------- ------------- 2/3 [fhir.resources]\n",
      "   -------------------------- ------------- 2/3 [fhir.resources]\n",
      "   -------------------------- ------------- 2/3 [fhir.resources]\n",
      "   -------------------------- ------------- 2/3 [fhir.resources]\n",
      "   -------------------------- ------------- 2/3 [fhir.resources]\n",
      "   -------------------------- ------------- 2/3 [fhir.resources]\n",
      "   -------------------------- ------------- 2/3 [fhir.resources]\n",
      "   -------------------------- ------------- 2/3 [fhir.resources]\n",
      "   -------------------------- ------------- 2/3 [fhir.resources]\n",
      "   -------------------------- ------------- 2/3 [fhir.resources]\n",
      "   -------------------------- ------------- 2/3 [fhir.resources]\n",
      "   -------------------------- ------------- 2/3 [fhir.resources]\n",
      "   -------------------------- ------------- 2/3 [fhir.resources]\n",
      "   -------------------------- ------------- 2/3 [fhir.resources]\n",
      "   -------------------------- ------------- 2/3 [fhir.resources]\n",
      "   -------------------------- ------------- 2/3 [fhir.resources]\n",
      "   -------------------------- ------------- 2/3 [fhir.resources]\n",
      "   -------------------------- ------------- 2/3 [fhir.resources]\n",
      "   -------------------------- ------------- 2/3 [fhir.resources]\n",
      "   -------------------------- ------------- 2/3 [fhir.resources]\n",
      "   ---------------------------------------- 3/3 [fhir.resources]\n",
      "\n",
      "Successfully installed fhir-core-1.1.4 fhir.resources-8.1.0 rdflib-7.2.1\n",
      "Note: you may need to restart the kernel to use updated packages.\n"
     ]
    }
   ],
   "source": [
    "%pip install fhir.resources rdflib --user"
   ]
  },
  {
   "cell_type": "code",
   "execution_count": null,
   "id": "39825adb",
   "metadata": {},
   "outputs": [],
   "source": [
    "from rdflib import Graph, Namespace, URIRef, Literal\n",
    "from rdflib.namespace import RDF, RDFS, FOAF, XSD\n",
    "import networkx as nx\n",
    "from matplotlib import pyplot as plt\n",
    "import fhir.resources\n",
    "\n",
    "from fhir.resources.bundle import Bundle\n",
    "from fhir.resources.resource import Resource\n",
    "from fhir.resources.patient import Patient\n",
    "from fhir.resources.practitioner import Practitioner\n",
    "from fhir.resources.encounter import Encounter\n",
    "from fhir.resources.careteam import CareTeam\n",
    "from fhir.resources.condition import Condition\n",
    "from fhir.resources.organization import Organization\n",
    "from fhir.resources.observation import Observation"
   ]
  },
  {
   "cell_type": "code",
   "execution_count": null,
   "id": "e5b2e9c5",
   "metadata": {},
   "outputs": [],
   "source": [
    "FHIR = Namespace(\"http://hl7.org/fhir/\")\n",
    "EX = Namespace(\"http://example.org/fhir/\")\n",
    "LOINC = Namespace(\"http://loinc.org/\")\n",
    "\n",
    "fhir_graph = Graph()\n",
    "fhir_graph.bind(\"fhir\", FHIR)\n",
    "fhir_graph.bind(\"ex\", EX)\n",
    "fhir_graph.bind(\"loinc\", LOINC)"
   ]
  },
  {
   "cell_type": "code",
   "execution_count": null,
   "id": "43666da8",
   "metadata": {},
   "outputs": [],
   "source": [
    "def expand_graph(graph: Graph, bundle: Bundle) -> Graph:\n",
    "    '''Function to expand an existing Graph with a provided Bundle of FHIR Resources'''\n",
    "    return graph"
   ]
  },
  {
   "cell_type": "code",
   "execution_count": null,
   "id": "1c8d277b",
   "metadata": {},
   "outputs": [],
   "source": [
    "FHIR_DIRECTORY = \"../../fhir/\""
   ]
  }
 ],
 "metadata": {
  "kernelspec": {
   "display_name": "Python 3",
   "language": "python",
   "name": "python3"
  },
  "language_info": {
   "codemirror_mode": {
    "name": "ipython",
    "version": 3
   },
   "file_extension": ".py",
   "mimetype": "text/x-python",
   "name": "python",
   "nbconvert_exporter": "python",
   "pygments_lexer": "ipython3",
   "version": "3.12.0"
  }
 },
 "nbformat": 4,
 "nbformat_minor": 5
}
