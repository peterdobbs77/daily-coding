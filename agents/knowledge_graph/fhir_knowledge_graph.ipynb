{
 "cells": [
  {
   "cell_type": "code",
   "execution_count": null,
   "id": "39825adb",
   "metadata": {},
   "outputs": [],
   "source": [
    "from rdflib import Graph\n",
    "import networkx as nx\n",
    "from matplotlib import pyplot as plt"
   ]
  },
  {
   "cell_type": "code",
   "execution_count": null,
   "id": "1c8d277b",
   "metadata": {},
   "outputs": [],
   "source": [
    "FHIR_DIRECTORY = \"../../fhir/\""
   ]
  }
 ],
 "metadata": {
  "language_info": {
   "name": "python"
  }
 },
 "nbformat": 4,
 "nbformat_minor": 5
}
