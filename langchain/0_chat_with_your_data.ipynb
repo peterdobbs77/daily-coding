{
 "cells": [
  {
   "cell_type": "code",
   "execution_count": 28,
   "id": "05119138",
   "metadata": {},
   "outputs": [
    {
     "name": "stdout",
     "output_type": "stream",
     "text": [
      "Requirement already satisfied: langchain-community in c:\\users\\peter\\appdata\\roaming\\python\\python312\\site-packages (0.3.29)\n",
      "Requirement already satisfied: tiktoken in c:\\users\\peter\\appdata\\roaming\\python\\python312\\site-packages (0.11.0)\n",
      "Requirement already satisfied: openai in c:\\users\\peter\\appdata\\roaming\\python\\python312\\site-packages (1.107.3)\n",
      "Requirement already satisfied: langchain-core<2.0.0,>=0.3.75 in c:\\users\\peter\\appdata\\roaming\\python\\python312\\site-packages (from langchain-community) (0.3.76)\n",
      "Requirement already satisfied: langchain<2.0.0,>=0.3.27 in c:\\users\\peter\\appdata\\roaming\\python\\python312\\site-packages (from langchain-community) (0.3.27)\n",
      "Requirement already satisfied: SQLAlchemy<3,>=1.4 in c:\\users\\peter\\appdata\\roaming\\python\\python312\\site-packages (from langchain-community) (2.0.43)\n",
      "Requirement already satisfied: requests<3,>=2.32.5 in c:\\users\\peter\\appdata\\roaming\\python\\python312\\site-packages (from langchain-community) (2.32.5)\n",
      "Requirement already satisfied: PyYAML>=5.3 in c:\\users\\peter\\appdata\\roaming\\python\\python312\\site-packages (from langchain-community) (6.0.2)\n",
      "Requirement already satisfied: aiohttp<4.0.0,>=3.8.3 in c:\\users\\peter\\appdata\\roaming\\python\\python312\\site-packages (from langchain-community) (3.12.15)\n",
      "Requirement already satisfied: tenacity!=8.4.0,<10,>=8.1.0 in c:\\python312\\lib\\site-packages (from langchain-community) (9.1.2)\n",
      "Requirement already satisfied: dataclasses-json<0.7,>=0.6.7 in c:\\users\\peter\\appdata\\roaming\\python\\python312\\site-packages (from langchain-community) (0.6.7)\n",
      "Requirement already satisfied: pydantic-settings<3.0.0,>=2.10.1 in c:\\users\\peter\\appdata\\roaming\\python\\python312\\site-packages (from langchain-community) (2.10.1)\n",
      "Requirement already satisfied: langsmith>=0.1.125 in c:\\users\\peter\\appdata\\roaming\\python\\python312\\site-packages (from langchain-community) (0.4.28)\n",
      "Requirement already satisfied: httpx-sse<1.0.0,>=0.4.0 in c:\\users\\peter\\appdata\\roaming\\python\\python312\\site-packages (from langchain-community) (0.4.1)\n",
      "Requirement already satisfied: numpy>=1.26.2 in c:\\python312\\lib\\site-packages (from langchain-community) (2.2.4)\n",
      "Requirement already satisfied: aiohappyeyeballs>=2.5.0 in c:\\users\\peter\\appdata\\roaming\\python\\python312\\site-packages (from aiohttp<4.0.0,>=3.8.3->langchain-community) (2.6.1)\n",
      "Requirement already satisfied: aiosignal>=1.4.0 in c:\\users\\peter\\appdata\\roaming\\python\\python312\\site-packages (from aiohttp<4.0.0,>=3.8.3->langchain-community) (1.4.0)\n",
      "Requirement already satisfied: attrs>=17.3.0 in c:\\users\\peter\\appdata\\roaming\\python\\python312\\site-packages (from aiohttp<4.0.0,>=3.8.3->langchain-community) (25.3.0)\n",
      "Requirement already satisfied: frozenlist>=1.1.1 in c:\\users\\peter\\appdata\\roaming\\python\\python312\\site-packages (from aiohttp<4.0.0,>=3.8.3->langchain-community) (1.7.0)\n",
      "Requirement already satisfied: multidict<7.0,>=4.5 in c:\\users\\peter\\appdata\\roaming\\python\\python312\\site-packages (from aiohttp<4.0.0,>=3.8.3->langchain-community) (6.6.4)\n",
      "Requirement already satisfied: propcache>=0.2.0 in c:\\users\\peter\\appdata\\roaming\\python\\python312\\site-packages (from aiohttp<4.0.0,>=3.8.3->langchain-community) (0.3.2)\n",
      "Requirement already satisfied: yarl<2.0,>=1.17.0 in c:\\users\\peter\\appdata\\roaming\\python\\python312\\site-packages (from aiohttp<4.0.0,>=3.8.3->langchain-community) (1.20.1)\n",
      "Requirement already satisfied: marshmallow<4.0.0,>=3.18.0 in c:\\users\\peter\\appdata\\roaming\\python\\python312\\site-packages (from dataclasses-json<0.7,>=0.6.7->langchain-community) (3.26.1)\n",
      "Requirement already satisfied: typing-inspect<1,>=0.4.0 in c:\\users\\peter\\appdata\\roaming\\python\\python312\\site-packages (from dataclasses-json<0.7,>=0.6.7->langchain-community) (0.9.0)\n",
      "Requirement already satisfied: langchain-text-splitters<1.0.0,>=0.3.9 in c:\\users\\peter\\appdata\\roaming\\python\\python312\\site-packages (from langchain<2.0.0,>=0.3.27->langchain-community) (0.3.11)\n",
      "Requirement already satisfied: pydantic<3.0.0,>=2.7.4 in c:\\users\\peter\\appdata\\roaming\\python\\python312\\site-packages (from langchain<2.0.0,>=0.3.27->langchain-community) (2.11.9)\n",
      "Requirement already satisfied: jsonpatch<2.0,>=1.33 in c:\\users\\peter\\appdata\\roaming\\python\\python312\\site-packages (from langchain-core<2.0.0,>=0.3.75->langchain-community) (1.33)\n",
      "Requirement already satisfied: typing-extensions>=4.7 in c:\\users\\peter\\appdata\\roaming\\python\\python312\\site-packages (from langchain-core<2.0.0,>=0.3.75->langchain-community) (4.15.0)\n",
      "Requirement already satisfied: packaging>=23.2 in c:\\python312\\lib\\site-packages (from langchain-core<2.0.0,>=0.3.75->langchain-community) (24.2)\n",
      "Requirement already satisfied: jsonpointer>=1.9 in c:\\users\\peter\\appdata\\roaming\\python\\python312\\site-packages (from jsonpatch<2.0,>=1.33->langchain-core<2.0.0,>=0.3.75->langchain-community) (3.0.0)\n",
      "Requirement already satisfied: annotated-types>=0.6.0 in c:\\users\\peter\\appdata\\roaming\\python\\python312\\site-packages (from pydantic<3.0.0,>=2.7.4->langchain<2.0.0,>=0.3.27->langchain-community) (0.7.0)\n",
      "Requirement already satisfied: pydantic-core==2.33.2 in c:\\python312\\lib\\site-packages (from pydantic<3.0.0,>=2.7.4->langchain<2.0.0,>=0.3.27->langchain-community) (2.33.2)\n",
      "Requirement already satisfied: typing-inspection>=0.4.0 in c:\\python312\\lib\\site-packages (from pydantic<3.0.0,>=2.7.4->langchain<2.0.0,>=0.3.27->langchain-community) (0.4.1)\n",
      "Requirement already satisfied: python-dotenv>=0.21.0 in c:\\python312\\lib\\site-packages (from pydantic-settings<3.0.0,>=2.10.1->langchain-community) (1.1.1)\n",
      "Requirement already satisfied: charset_normalizer<4,>=2 in c:\\users\\peter\\appdata\\roaming\\python\\python312\\site-packages (from requests<3,>=2.32.5->langchain-community) (3.4.3)\n",
      "Requirement already satisfied: idna<4,>=2.5 in c:\\users\\peter\\appdata\\roaming\\python\\python312\\site-packages (from requests<3,>=2.32.5->langchain-community) (3.10)\n",
      "Requirement already satisfied: urllib3<3,>=1.21.1 in c:\\users\\peter\\appdata\\roaming\\python\\python312\\site-packages (from requests<3,>=2.32.5->langchain-community) (2.5.0)\n",
      "Requirement already satisfied: certifi>=2017.4.17 in c:\\users\\peter\\appdata\\roaming\\python\\python312\\site-packages (from requests<3,>=2.32.5->langchain-community) (2025.8.3)\n",
      "Requirement already satisfied: greenlet>=1 in c:\\users\\peter\\appdata\\roaming\\python\\python312\\site-packages (from SQLAlchemy<3,>=1.4->langchain-community) (3.2.4)\n",
      "Requirement already satisfied: mypy-extensions>=0.3.0 in c:\\users\\peter\\appdata\\roaming\\python\\python312\\site-packages (from typing-inspect<1,>=0.4.0->dataclasses-json<0.7,>=0.6.7->langchain-community) (1.1.0)\n",
      "Requirement already satisfied: regex>=2022.1.18 in c:\\users\\peter\\appdata\\roaming\\python\\python312\\site-packages (from tiktoken) (2025.9.1)\n",
      "Requirement already satisfied: anyio<5,>=3.5.0 in c:\\users\\peter\\appdata\\roaming\\python\\python312\\site-packages (from openai) (4.10.0)\n",
      "Requirement already satisfied: distro<2,>=1.7.0 in c:\\python312\\lib\\site-packages (from openai) (1.9.0)\n",
      "Requirement already satisfied: httpx<1,>=0.23.0 in c:\\users\\peter\\appdata\\roaming\\python\\python312\\site-packages (from openai) (0.28.1)\n",
      "Requirement already satisfied: jiter<1,>=0.4.0 in c:\\python312\\lib\\site-packages (from openai) (0.11.0)\n",
      "Requirement already satisfied: sniffio in c:\\python312\\lib\\site-packages (from openai) (1.3.1)\n",
      "Requirement already satisfied: tqdm>4 in c:\\users\\peter\\appdata\\roaming\\python\\python312\\site-packages (from openai) (4.67.1)\n",
      "Requirement already satisfied: httpcore==1.* in c:\\users\\peter\\appdata\\roaming\\python\\python312\\site-packages (from httpx<1,>=0.23.0->openai) (1.0.9)\n",
      "Requirement already satisfied: h11>=0.16 in c:\\python312\\lib\\site-packages (from httpcore==1.*->httpx<1,>=0.23.0->openai) (0.16.0)\n",
      "Requirement already satisfied: orjson>=3.9.14 in c:\\users\\peter\\appdata\\roaming\\python\\python312\\site-packages (from langsmith>=0.1.125->langchain-community) (3.11.3)\n",
      "Requirement already satisfied: requests-toolbelt>=1.0.0 in c:\\users\\peter\\appdata\\roaming\\python\\python312\\site-packages (from langsmith>=0.1.125->langchain-community) (1.0.0)\n",
      "Requirement already satisfied: zstandard>=0.23.0 in c:\\python312\\lib\\site-packages (from langsmith>=0.1.125->langchain-community) (0.25.0)\n",
      "Requirement already satisfied: colorama in c:\\users\\peter\\appdata\\roaming\\python\\python312\\site-packages (from tqdm>4->openai) (0.4.6)\n",
      "Note: you may need to restart the kernel to use updated packages.\n"
     ]
    },
    {
     "name": "stderr",
     "output_type": "stream",
     "text": [
      "WARNING: Ignoring invalid distribution ~ip (c:\\Python312\\Lib\\site-packages)\n",
      "WARNING: Ignoring invalid distribution ~ip (c:\\Python312\\Lib\\site-packages)\n"
     ]
    }
   ],
   "source": [
    "%pip install langchain-community tiktoken openai --user"
   ]
  },
  {
   "cell_type": "markdown",
   "id": "0defadb4",
   "metadata": {},
   "source": [
    "## Document Loading -> PDFs\n",
    "\n",
    "Let's load some of my PDFs from grad school"
   ]
  },
  {
   "cell_type": "code",
   "execution_count": 1,
   "id": "a2c2dd81",
   "metadata": {},
   "outputs": [],
   "source": [
    "from langchain_community.document_loaders import PyPDFLoader\n",
    "loader = PyPDFLoader(\"pdf_data/mssc6010_lectures.pdf\")\n",
    "pages = loader.load()"
   ]
  },
  {
   "cell_type": "code",
   "execution_count": 2,
   "id": "f4450327",
   "metadata": {},
   "outputs": [
    {
     "data": {
      "text/plain": [
       "11"
      ]
     },
     "execution_count": 2,
     "metadata": {},
     "output_type": "execute_result"
    }
   ],
   "source": [
    "len(pages)"
   ]
  },
  {
   "cell_type": "code",
   "execution_count": 3,
   "id": "2e8a86cb",
   "metadata": {},
   "outputs": [
    {
     "name": "stdout",
     "output_type": "stream",
     "text": [
      "page_content='Fall 2019\n",
      "MSSC 6010\n",
      "Lectures Peter Dobbs\n",
      "0.1 Summary\n",
      "0.1.1 Recall\n",
      "Useful Derivatives\n",
      "∂ln f(x)\n",
      "∂x =\n",
      "∂\n",
      "∂xf(x)\n",
      "f(x)\n",
      "∂\n",
      "∂θ ·θ−m = −θ−m−1\n",
      "0.1.2 Counting Techniques\n",
      "Deﬁnition 0.1. Combinations - ”n choose k”\n",
      "Ck,n =\n",
      "(n\n",
      "k\n",
      ")\n",
      "= n!\n",
      "k!(n−k)! (0.1)\n",
      "0.1.3 Axiomatic Probability\n",
      "The Three Axioms of Probability Consider an experiment with sample space Ω. For each\n",
      "event E of the sample space Ω. assume that a number P(E) is deﬁned that satisﬁes the following\n",
      "three axioms:\n",
      "1. 0 ≤P(E) ≤1\n",
      "2. P(Ω) = 1\n",
      "3. For any sequence of mutually exclusive events E1,E2,... (that is Ei ∩Ej = ∅) for all i̸= j,\n",
      "P\n",
      "(∞⋃\n",
      "i=1\n",
      ")\n",
      "=\n",
      "∞∑\n",
      "i=1\n",
      "P\n",
      "(\n",
      "Ei\n",
      ")\n",
      "Theorem 0.2. Bayes Theorem\n",
      "P(B|A) = P(A|B) ·P(B)\n",
      "P(A) (0.2)\n",
      "0.1.4 Markov’s Theorem and Chebyshev’s Inequality\n",
      "Deﬁnition 0.3. Chebyshev’s Inequality – Can be stated as any of\n",
      "(a) P(|X−µ|≥ k) ≤σ2\n",
      "k2\n",
      "(b) P(|X−µ|<k) ≥1 −σ2\n",
      "k2\n",
      "(c) P(|X−µ|≥ kσ) ≤ 1\n",
      "k2\n",
      "(d) P(|X−µ|<kσ ) ≥1 − 1\n",
      "k2\n",
      "1' metadata={'producer': 'pdfTeX-1.40.18', 'creator': 'LaTeX with hyperref package', 'creationdate': '2025-09-16T21:49:14+00:00', 'author': '', 'keywords': '', 'moddate': '2025-09-16T21:49:14+00:00', 'ptex.fullbanner': 'This is pdfTeX, Version 3.14159265-2.6-1.40.18 (TeX Live 2017) kpathsea version 6.2.3', 'subject': '', 'title': '', 'trapped': '/False', 'source': 'pdf_data/mssc6010_lectures.pdf', 'total_pages': 11, 'page': 0, 'page_label': '1'}\n"
     ]
    }
   ],
   "source": [
    "print(pages[0])"
   ]
  },
  {
   "cell_type": "code",
   "execution_count": 4,
   "id": "153cebfa",
   "metadata": {},
   "outputs": [
    {
     "data": {
      "text/plain": [
       "{'producer': 'pdfTeX-1.40.18',\n",
       " 'creator': 'LaTeX with hyperref package',\n",
       " 'creationdate': '2025-09-16T21:49:14+00:00',\n",
       " 'author': '',\n",
       " 'keywords': '',\n",
       " 'moddate': '2025-09-16T21:49:14+00:00',\n",
       " 'ptex.fullbanner': 'This is pdfTeX, Version 3.14159265-2.6-1.40.18 (TeX Live 2017) kpathsea version 6.2.3',\n",
       " 'subject': '',\n",
       " 'title': '',\n",
       " 'trapped': '/False',\n",
       " 'source': 'pdf_data/mssc6010_lectures.pdf',\n",
       " 'total_pages': 11,\n",
       " 'page': 0,\n",
       " 'page_label': '1'}"
      ]
     },
     "execution_count": 4,
     "metadata": {},
     "output_type": "execute_result"
    }
   ],
   "source": [
    "pages[0].metadata"
   ]
  },
  {
   "cell_type": "markdown",
   "id": "dd8fcbad",
   "metadata": {},
   "source": [
    "## Document Splitting"
   ]
  },
  {
   "cell_type": "markdown",
   "id": "fa62ecff",
   "metadata": {},
   "source": [
    "### Character Splitting"
   ]
  },
  {
   "cell_type": "code",
   "execution_count": 15,
   "id": "96905897",
   "metadata": {},
   "outputs": [],
   "source": [
    "from langchain.text_splitter import RecursiveCharacterTextSplitter, CharacterTextSplitter"
   ]
  },
  {
   "cell_type": "code",
   "execution_count": 16,
   "id": "b4209dda",
   "metadata": {},
   "outputs": [],
   "source": [
    "chunk_size = 20\n",
    "chunk_overlap = 3"
   ]
  },
  {
   "cell_type": "code",
   "execution_count": 17,
   "id": "fc153059",
   "metadata": {},
   "outputs": [],
   "source": [
    "r_splitter = RecursiveCharacterTextSplitter(\n",
    "    chunk_size=chunk_size,\n",
    "    chunk_overlap=chunk_overlap\n",
    ")\n",
    "c_splitter = CharacterTextSplitter(\n",
    "    chunk_size=chunk_size,\n",
    "    chunk_overlap=chunk_overlap\n",
    ")"
   ]
  },
  {
   "cell_type": "code",
   "execution_count": 18,
   "id": "535c0801",
   "metadata": {},
   "outputs": [
    {
     "data": {
      "text/plain": [
       "['Fall 2019\\nMSSC 6010',\n",
       " 'Lectures Peter',\n",
       " 'Dobbs',\n",
       " '0.1 Summary',\n",
       " '0.1.1 Recall',\n",
       " 'Useful Derivatives',\n",
       " '∂ln f(x)\\n∂x =\\n∂',\n",
       " '∂\\n∂xf(x)\\nf(x)\\n∂',\n",
       " '∂\\n∂θ ·θ−m = −θ−m−1',\n",
       " '0.1.2 Counting',\n",
       " 'Techniques',\n",
       " 'Deﬁnition 0.1.',\n",
       " 'Combinations - ”n',\n",
       " '”n choose k”',\n",
       " 'Ck,n =\\n(n\\nk\\n)\\n= n!',\n",
       " 'k!(n−k)! (0.1)',\n",
       " '0.1.3 Axiomatic',\n",
       " 'Probability',\n",
       " 'The Three Axioms of',\n",
       " 'of Probability',\n",
       " 'Consider an',\n",
       " 'an experiment with',\n",
       " 'sample space Ω. For',\n",
       " 'each',\n",
       " 'event E of the',\n",
       " 'sample space Ω.',\n",
       " 'Ω. assume that a',\n",
       " 'a number P(E) is',\n",
       " 'is deﬁned that',\n",
       " 'satisﬁes the',\n",
       " 'following',\n",
       " 'three axioms:',\n",
       " '1. 0 ≤P(E) ≤1',\n",
       " '2. P(Ω) = 1',\n",
       " '3. For any sequence',\n",
       " 'of mutually',\n",
       " 'exclusive events',\n",
       " 'E1,E2,... (that is',\n",
       " 'is Ei ∩Ej = ∅) for',\n",
       " 'all i̸= j,',\n",
       " 'P\\n(∞⋃\\ni=1\\n)\\n=\\n∞∑',\n",
       " '∞∑\\ni=1\\nP\\n(\\nEi\\n)',\n",
       " 'Theorem 0.2. Bayes',\n",
       " 'Theorem',\n",
       " 'P(B|A) = P(A|B)',\n",
       " '·P(B)',\n",
       " 'P(A) (0.2)',\n",
       " '0.1.4 Markov’s',\n",
       " 'Theorem and',\n",
       " 'Chebyshev’s',\n",
       " 'Inequality',\n",
       " 'Deﬁnition 0.3.',\n",
       " 'Chebyshev’s',\n",
       " 'Inequality – Can be',\n",
       " 'be stated as any of',\n",
       " '(a) P(|X−µ|≥ k) ≤σ2',\n",
       " 'k2',\n",
       " '(b) P(|X−µ|<k) ≥1',\n",
       " '≥1 −σ2',\n",
       " 'k2',\n",
       " '(c) P(|X−µ|≥ kσ) ≤',\n",
       " '≤ 1',\n",
       " 'k2',\n",
       " '(d) P(|X−µ|<kσ ) ≥1',\n",
       " '≥1 − 1',\n",
       " 'k2\\n1']"
      ]
     },
     "execution_count": 18,
     "metadata": {},
     "output_type": "execute_result"
    }
   ],
   "source": [
    "r_splitter.split_text(pages[0].page_content)"
   ]
  },
  {
   "cell_type": "code",
   "execution_count": 19,
   "id": "a5baf4d4",
   "metadata": {},
   "outputs": [
    {
     "data": {
      "text/plain": [
       "['Fall 2019\\nMSSC 6010\\nLectures Peter Dobbs\\n0.1 Summary\\n0.1.1 Recall\\nUseful Derivatives\\n∂ln f(x)\\n∂x =\\n∂\\n∂xf(x)\\nf(x)\\n∂\\n∂θ ·θ−m = −θ−m−1\\n0.1.2 Counting Techniques\\nDeﬁnition 0.1. Combinations - ”n choose k”\\nCk,n =\\n(n\\nk\\n)\\n= n!\\nk!(n−k)! (0.1)\\n0.1.3 Axiomatic Probability\\nThe Three Axioms of Probability Consider an experiment with sample space Ω. For each\\nevent E of the sample space Ω. assume that a number P(E) is deﬁned that satisﬁes the following\\nthree axioms:\\n1. 0 ≤P(E) ≤1\\n2. P(Ω) = 1\\n3. For any sequence of mutually exclusive events E1,E2,... (that is Ei ∩Ej = ∅) for all i̸= j,\\nP\\n(∞⋃\\ni=1\\n)\\n=\\n∞∑\\ni=1\\nP\\n(\\nEi\\n)\\nTheorem 0.2. Bayes Theorem\\nP(B|A) = P(A|B) ·P(B)\\nP(A) (0.2)\\n0.1.4 Markov’s Theorem and Chebyshev’s Inequality\\nDeﬁnition 0.3. Chebyshev’s Inequality – Can be stated as any of\\n(a) P(|X−µ|≥ k) ≤σ2\\nk2\\n(b) P(|X−µ|<k) ≥1 −σ2\\nk2\\n(c) P(|X−µ|≥ kσ) ≤ 1\\nk2\\n(d) P(|X−µ|<kσ ) ≥1 − 1\\nk2\\n1']"
      ]
     },
     "execution_count": 19,
     "metadata": {},
     "output_type": "execute_result"
    }
   ],
   "source": [
    "c_splitter.split_text(pages[0].page_content)"
   ]
  },
  {
   "cell_type": "markdown",
   "id": "cf4cd793",
   "metadata": {},
   "source": [
    "Notice that (when chunk_size = 100, chunk_overlap = 10) the `RecursiveCharacterTextSplitter` is able to create smaller chunks from the page content, but the `CharacterTextSplitter` returns the whole page content as one chunk. Let's try different chunk_size and chunk_overlap. \n",
    "\n",
    "It seems to be a similar case when chunk_size = 200, chunk_overlap = 40 as well. Let's try smaller chunk sizes.\n",
    "\n",
    "When chunk_size = 20, chunk_overlap = 3, there is the same behavior... Curious."
   ]
  },
  {
   "cell_type": "markdown",
   "id": "f7d61a87",
   "metadata": {},
   "source": [
    "What if we adjust the separator of the `CharacterTextSplitter`?"
   ]
  },
  {
   "cell_type": "code",
   "execution_count": 20,
   "id": "e5d62bb0",
   "metadata": {},
   "outputs": [
    {
     "data": {
      "text/plain": [
       "['Fall 2019\\nMSSC 6010\\nLectures Peter Dobbs\\n0.1 Summary\\n0.1.1 Recall\\nUseful Derivatives\\n∂ln f(x)\\n∂x',\n",
       " 'f(x)\\n∂x =\\n∂\\n∂xf(x)\\nf(x)\\n∂\\n∂θ ·θ−m = −θ−m−1\\n0.1.2 Counting Techniques\\nDeﬁnition 0.1. Combinations -',\n",
       " '- ”n choose k”\\nCk,n =\\n(n\\nk\\n)\\n= n!\\nk!(n−k)! (0.1)\\n0.1.3 Axiomatic Probability\\nThe Three Axioms of',\n",
       " 'Axioms of Probability Consider an experiment with sample space Ω. For each\\nevent E of the sample',\n",
       " 'the sample space Ω. assume that a number P(E) is deﬁned that satisﬁes the following\\nthree axioms:\\n1.',\n",
       " 'axioms:\\n1. 0 ≤P(E) ≤1\\n2. P(Ω) = 1\\n3. For any sequence of mutually exclusive events E1,E2,... (that',\n",
       " '(that is Ei ∩Ej = ∅) for all i̸= j,\\nP\\n(∞⋃\\ni=1\\n)\\n=\\n∞∑\\ni=1\\nP\\n(\\nEi\\n)\\nTheorem 0.2. Bayes Theorem\\nP(B|A)',\n",
       " '= P(A|B) ·P(B)\\nP(A) (0.2)\\n0.1.4 Markov’s Theorem and Chebyshev’s Inequality\\nDeﬁnition 0.3.',\n",
       " '0.3. Chebyshev’s Inequality – Can be stated as any of\\n(a) P(|X−µ|≥ k) ≤σ2\\nk2\\n(b) P(|X−µ|<k) ≥1',\n",
       " '≥1 −σ2\\nk2\\n(c) P(|X−µ|≥ kσ) ≤ 1\\nk2\\n(d) P(|X−µ|<kσ ) ≥1 − 1\\nk2\\n1']"
      ]
     },
     "execution_count": 20,
     "metadata": {},
     "output_type": "execute_result"
    }
   ],
   "source": [
    "c_splitter = CharacterTextSplitter(\n",
    "    chunk_size=100,\n",
    "    chunk_overlap=10,\n",
    "    separator=' '\n",
    ")\n",
    "c_splitter.split_text(pages[0].page_content)"
   ]
  },
  {
   "cell_type": "markdown",
   "id": "edf21e7c",
   "metadata": {},
   "source": [
    "Success! 😁\n",
    "\n",
    "Note that the `RecursiveCharacterTextSplitter` has default separators set as: `[\"\\n\\n\", \"\\n\", \"\\. \", \" \", \"\"]`"
   ]
  },
  {
   "cell_type": "markdown",
   "id": "60fd14cf",
   "metadata": {},
   "source": [
    "### Diving deeper"
   ]
  },
  {
   "cell_type": "code",
   "execution_count": 21,
   "id": "392c784e",
   "metadata": {},
   "outputs": [
    {
     "data": {
      "text/plain": [
       "['Fall 2019\\nMSSC 6010\\nLectures Peter Dobbs\\n0.1 Summary\\n0.1.1 Recall\\nUseful Derivatives\\n∂ln f(x)\\n∂x =\\n∂\\n∂xf(x)\\nf(x)\\n∂\\n∂θ ·θ−m = −θ−m−1\\n0.1.2 Counting Techniques\\nDeﬁnition 0.1. Combinations - ”n choose k”\\nCk,n =\\n(n\\nk\\n)\\n= n!\\nk!(n−k)! (0.1)\\n0.1.3 Axiomatic Probability\\nThe Three Axioms of Probability Consider an experiment with sample space Ω. For each\\nevent E of the sample space Ω. assume that a number P(E) is deﬁned that satisﬁes the following\\nthree axioms:\\n1. 0 ≤P(E) ≤1\\n2. P(Ω) = 1',\n",
       " 'three axioms:\\n1. 0 ≤P(E) ≤1\\n2. P(Ω) = 1\\n3. For any sequence of mutually exclusive events E1,E2,... (that is Ei ∩Ej = ∅) for all i̸= j,\\nP\\n(∞⋃\\ni=1\\n)\\n=\\n∞∑\\ni=1\\nP\\n(\\nEi\\n)\\nTheorem 0.2. Bayes Theorem\\nP(B|A) = P(A|B) ·P(B)\\nP(A) (0.2)\\n0.1.4 Markov’s Theorem and Chebyshev’s Inequality\\nDeﬁnition 0.3. Chebyshev’s Inequality – Can be stated as any of\\n(a) P(|X−µ|≥ k) ≤σ2\\nk2\\n(b) P(|X−µ|<k) ≥1 −σ2\\nk2\\n(c) P(|X−µ|≥ kσ) ≤ 1\\nk2\\n(d) P(|X−µ|<kσ ) ≥1 − 1\\nk2\\n1',\n",
       " 'Fall 2019\\nMSSC 6010\\nLectures Peter Dobbs\\n0.1.5 Distribution Use Summary\\nDistribution Use\\nBinomial Let X be number of success events in event set, size n.\\nThen X ∼Bin(n,π).\\nPoisson Let X be number of particular events occur within deﬁned time or space\\nThen X ∼Pois(λ)\\nGeometric Let X be number of failure events before success event.\\nThen X ∼Geo(π).\\n0.1.6 t-Distribution\\n1. has similar shape as N(0,1), but is ﬂatter\\n2. is symmetric around 0, like N(0,1) is\\n3. has range from −∞to ∞',\n",
       " '2. is symmetric around 0, like N(0,1) is\\n3. has range from −∞to ∞\\n4. depends on the degrees of freedom df\\n5. as the dfincreases, t-distribution approaches N(0,1)\\n6. Applet: understanding the t-distribution\\n0.1.7 Methods of Moments (MOM) Estimators\\nαr = E[Xr] mr = 1\\nn\\nn∑\\ni=1\\nXr\\ni\\n\\uf8f1\\n\\uf8f4\\uf8f4\\uf8f4\\uf8f4\\uf8f2\\n\\uf8f4\\uf8f4\\uf8f4\\uf8f4\\uf8f3\\nα1(θ1,...,θ k) = m1\\nα2(θ1,...,θ k) = m2\\n... ...\\nαk(θ1,...,θ k) = mk\\n2',\n",
       " 'Fall 2019\\nMSSC 6010\\nLectures Peter Dobbs\\n3',\n",
       " 'Fall 2019\\nMSSC 6010\\nLectures Peter Dobbs\\n3 Chapter 3. Probability\\n3.1 Introduction\\n3.2 Counting Techniques\\n3.3 Axiomatic Probability\\n3.3.1 Sample Space and Events\\nrandom experiment\\nsample space\\nevent\\n3.3.2 Set Theory\\nGiven events E, F, G, E1, E2, ..., the commutative, associative, distributive, and DeMorgans laws\\nwork as follows with the union and intersection operators:\\n1. Commutative laws\\nE∪F = F ∪E\\nE∩F = F ∩E\\n2. Associative laws\\n(E∪F) ∪G= E∪(F ∪G)\\n(E∩F) ∩G= E∩(F ∩G)\\n3. Distributive laws',\n",
       " '2. Associative laws\\n(E∪F) ∪G= E∪(F ∪G)\\n(E∩F) ∩G= E∩(F ∩G)\\n3. Distributive laws\\n(E∩F) ∪G= (E∪G) ∩(F ∪G)\\n(E∪F) ∩G= (E∩G) ∪(F ∩G)\\n4. DeMorgan’s laws (∞⋃\\ni=1\\nEi\\n)c\\n=\\n∞⋂\\ni=1\\nEc\\ni\\n(∞⋂\\ni=1\\nEi\\n)c\\n=\\n∞⋃\\ni=1\\nEc\\ni\\n3.3.3 Interpreting Probability\\nThe Three Axioms of Probability Consider an experiment with sample space Ω. For each\\nevent E of the sample space Ω. assume that a number P(E) is deﬁned that satisﬁes the following\\nthree axioms:\\n1. 0 ≤P(E) ≤1\\n2. P(Ω) = 1\\n4',\n",
       " 'Fall 2019\\nMSSC 6010\\nLectures Peter Dobbs\\n3. For any sequence of mutually exclusive events E1,E2,... (that is Ei ∩Ej = ∅) for all i̸= j,\\nP\\n(∞⋃\\ni=1\\n)\\n=\\n∞∑\\ni=1\\nP\\n(\\nEi\\n)\\nDerived from three axioms\\n1. P(Ec) = 1 −P(E)\\n2. P(E∪F) = P(E) + P(F) −P(E∩F)\\n3. P(∅) = 0\\n4. If E ⊂F, then P(E) ≤P(F)\\nExample 3.9 - Birthday example\\n3.3.4 Conditional Probability\\nP(F|E) = P(F ∩E)\\nP(E) (3.1)\\n3.3.5 The Law of Total Probability and Bayes’ Rule\\nLet F1,F2,...,F n be such that ⋃n',\n",
       " '3.3.5 The Law of Total Probability and Bayes’ Rule\\nLet F1,F2,...,F n be such that ⋃n\\ni=1 Fi = Ω and Fi ∩Fj = ∅for all i ̸= j, with P(Fi) > 0 for all i.\\nThen for any event E,\\nP(E) =\\nn∑\\ni=1\\nP(E∩Fi) =\\nn∑\\ni=1\\nP(E|Fi)P(Fi) (3.2)\\nLet F1,F2,...,F n be such that ⋃n\\ni=1 Fi = Ω and Fi ∩Fj = ∅for all i̸= j, with P(Fi) >0 for all\\ni. Then,\\nP(Fj|E) = P(E∩Fj)\\nP(E) = P(E|Fj)P(Fj)∑n\\ni=1 P(E|Fi)P(Fi) (3.3)\\nExample 3.13 - Car Batteries\\nAnd how about P(A|C)?\\nP(A|C) = P(C|A)P(A)\\nP(C)\\n...\\n= 0.6043',\n",
       " 'And how about P(A|C)?\\nP(A|C) = P(C|A)P(A)\\nP(C)\\n...\\n= 0.6043\\n3.5.9 Moment Generating Functions\\nIf it exists, then it is unique for that distribution.\\nt should be in neighborhood of 0.\\n5',\n",
       " 'Fall 2019\\nMSSC 6010\\nLectures Peter Dobbs\\n4 Univariate Probability Distributions\\n4.1 Intro\\n4.2 Discrete Univariate Distributions\\n4.2.1 Discrete Uniform Distribution\\n4.2.2 Bernoulli and Binomial Distribution\\n4.2.3 Poisson Distribution\\n4.2.4 Geometric Distribution\\n4.3 Continuous Univariate Distributions\\n4.3.1 Uniform Distribution (Continuous)\\n4.3.2 Exponential Distribution\\n4.3.3 Gamma Distribution\\nΓ(α) =\\n∫ ∞\\n0\\nxα−1e−xdx (4.1)\\n1. For α> 0, Γ(α+ 1) = αΓ(α)',\n",
       " '4.3.3 Gamma Distribution\\nΓ(α) =\\n∫ ∞\\n0\\nxα−1e−xdx (4.1)\\n1. For α> 0, Γ(α+ 1) = αΓ(α)\\n2. For any positive integer, n, Γ(n) = (n−1)!\\n3. Γ( 1\\n2 ) = √π\\nf(x|α,λ) =\\n{\\nλα\\nΓ(α) xα−1e−λx if x≥0\\n0 if x< 0\\nE[X] = α\\nλ\\nVar[X] = α\\nλ2\\nMX(t) = (1 −λ−1t)−α for t<λ\\nUseful Relationships\\n1. Given X ∼Γ(α,λ). When α= 1, the resulting random variable is X ∼Exp(λ). That is, the\\nexponential distribution is a special case of the gamma distribution.\\n2. Given X ∼Γ(α,λ). When α = n\\n2 and λ = 1',\n",
       " '2. Given X ∼Γ(α,λ). When α = n\\n2 and λ = 1\\n2 the resulting random variable has a chi-square\\ndistribution with n degrees of freedom. (The chi-square is discussed in Section 6.6.1.)\\n3. Given X ∼Γ(α,λ). Provided αis a positive integer, the resulting distribution is known as the\\nErlang. In this case, the Erlang distribution gives the waiting time until the αth occurrence\\nwhen the number of outcomes in an interval of length t follows a Poisson distribution with\\nparameter λt.',\n",
       " 'parameter λt.\\n4. Given X ∼Γ(α,λ). The sampling distribution of ¯X for a random sample of size n is ¯X ∼\\nΓ(nα,nλ)\\n6',\n",
       " 'Fall 2019\\nMSSC 6010\\nLectures Peter Dobbs\\n5 Multivariate Probability Distributions\\n5.1 Joint Distribution of Two Random Variables\\n5.1.1 Joint pdf for Two Discrete Random Variables\\nIf X,Y are discrete random variables,\\npX,Y(x,y) = P(X = x,Y = y)\\nExample 5.1 To graduate with a bachelor of science (B.S.) degree in mathematics, all majors\\nmust pass Calculus III and Linear Algebra with a grade point of 3 or better. The population of B.S.',\n",
       " 'graduates in mathematics earned grades as given in Table 5.1 on the following page.\\n(a) What is the probability of getting a 3 or better in Linear Algebra?\\n(b) What is the probability of getting a 3 or better in Calculus III?\\n(c) What is the probability of getting a 3 or better in both Calculus III and Linear Algebra?\\nSolution. First, let X be the grade achieved in Linear Algebra and Y be the grade achieved in\\nCalculus III.\\n(a) What is the probability of getting a 3 or better in Linear Algebra?',\n",
       " 'Calculus III.\\n(a) What is the probability of getting a 3 or better in Linear Algebra?\\nP(X ≥3) = 14 + 131\\n14 + 131 + 55 = 145\\n200 = 0.725\\n(b) What is the probability of getting a 3 or better in Calculus III?\\nP(Y ≥3) = 21 + 130\\n21 + 130 + 49 = 151\\n200 = 0.755\\n(c) What is the probability of getting a 3 or better in both Calculus III and Linear Algebra?\\nP(X ≥3) ∩P(Y ≥3) = 2 + 13 + 5 + 85\\n200 = 105\\n200 = 0.525\\n7',\n",
       " 'Fall 2019\\nMSSC 6010\\nLectures Peter Dobbs\\nDiscrete Rules\\n1. pX,Y(x,y) ≥0 ∀x,y\\n2. ∑\\nx\\n∑\\ny pX,Y(x,y) = 1\\n3. P[(X,Y ) ∈A] = ∑∑\\n(x,y)∈A\\npX,Y(x,y)\\nFX,Y(x,y) = P(X ≤x,Y ≤y), −∞<x< ∞,−∞<y <∞\\npX(x) =\\n∑\\ny\\npX,Y(x,y)\\npY(y) =\\n∑\\nx\\npX,Y(x,y)\\n5.1.2 Joint pdf for Two Continuous Random Variables\\nContinuous Rules\\n1. fX,Y(x,y) ≥0 ∀x,y\\n2.\\n∫∞\\n−∞\\n∫∞\\n−∞fX,Y(x,y) dx dy= 1\\n3. P[(X,Y ) ∈A] =\\n∫∫\\n(x,y)∈A\\nfX,Y(x,y) dx dy\\nFX,Y(x,y) =\\n∫ x\\n−∞\\n∫ y\\n−∞\\nfX,Y(r,s) ds dr,−∞<x< ∞,−∞<y <∞\\nfX(x) =\\n∫ ∞\\n−∞\\nfX,Y(x,y) dy, −∞<x< ∞\\nfY(y) =',\n",
       " '−∞\\n∫ y\\n−∞\\nfX,Y(r,s) ds dr,−∞<x< ∞,−∞<y <∞\\nfX(x) =\\n∫ ∞\\n−∞\\nfX,Y(x,y) dy, −∞<x< ∞\\nfY(y) =\\n∫ ∞\\n−∞\\nfX,Y(x,y) dx, −∞<y <∞\\nFor marginal pdf, you MUST give the bounds once you have integrated\\n5.2 Independent Random Variables\\n2 random variables are independent if pX,Y(x,y) = pX(x) ·pY(y)\\nIf X1,X2,...,X n are independent random variables\\nE[Y] =\\nn∑\\ni=1\\naiµi\\nVar[Y] =\\nn∑\\ni=1\\na2\\niσ2\\ni\\n8',\n",
       " 'Fall 2019\\nMSSC 6010\\nLectures Peter Dobbs\\n5.3 Conditional Distributions\\nfX|Y(x,y) = fX,Y(x,y)\\nfY(y)\\nP(X ∈A|Y = y) =\\n∑\\nX∈A\\npX|Y(x|y)\\nDo not assume that the variance of the sum of two random variables is the sum of the\\nvariables of each random variable. It is only true if the two random variables are independent.\\n5.4 Expected Values, Covariance, and Correlation\\n9',\n",
       " 'Fall 2019\\nMSSC 6010\\nLectures Peter Dobbs\\n10',\n",
       " 'Fall 2019\\nMSSC 6010\\nLectures Peter Dobbs\\n6 Chapter 6\\nFigure 1: Caption\\nDerive Chi-Square Distribution via Transformation of Variable\\nChi-Square Distribution (χ2)\\nX ∼χ2\\nf(x) =\\n{ 1\\nΓ( n\\n2 )2\\nn\\n2\\n·x\\nn\\n2 −1e−x\\n2 if x≥0\\n0 if x< 0\\nE[X] = n\\nVar[X] = 2n\\nMX(t) = (1 −2t)−n\\n2 for t< 1\\n2\\nTheorem 6.1. If Z ∼N(0,1), then the random variableY = Z2 ∼χ2\\n1.\\nCorollary 6.1.1. If X ∼N(µ,σ), then Z = X−µ\\nσ ∼N(0,1), and Z2 ∼χ2\\n1.',\n",
       " '1.\\nCorollary 6.1.1. If X ∼N(µ,σ), then Z = X−µ\\nσ ∼N(0,1), and Z2 ∼χ2\\n1.\\nTheorem 6.2. If X1,...,X r are independent random variables with chi-square distributionsχ2\\nn1 ,...,χ 2\\nnr\\nrespectively, then\\nY =\\nr∑\\ni=1\\nXi ∼χ2\\ns, where s=\\nr∑\\ni=1\\nni.\\n11']"
      ]
     },
     "execution_count": 21,
     "metadata": {},
     "output_type": "execute_result"
    }
   ],
   "source": [
    "text_splitter = CharacterTextSplitter(\n",
    "    separator=\"\\n\",\n",
    "    chunk_size=500,\n",
    "    chunk_overlap=86,\n",
    "    length_function=len\n",
    ")\n",
    "docs = text_splitter.split_documents(pages)\n",
    "[docs[i].page_content for i in range(len(docs))]"
   ]
  },
  {
   "cell_type": "markdown",
   "id": "8e7ccffd",
   "metadata": {},
   "source": [
    "### Token Splitting"
   ]
  },
  {
   "cell_type": "code",
   "execution_count": 22,
   "id": "17805dc8",
   "metadata": {},
   "outputs": [
    {
     "data": {
      "text/plain": [
       "['Fall 2019\\nMSSC 6010\\nL',\n",
       " 'ectures Peter Dobbs\\n0.1 Summary',\n",
       " '\\n0.1.1 Recall\\nUseful',\n",
       " ' Derivatives\\n∂ln f(x',\n",
       " ')\\n∂x =\\n∂\\n',\n",
       " '∂xf(x)\\nf(x',\n",
       " ')\\n∂\\n∂θ ·',\n",
       " 'θ−m = −θ−m',\n",
       " '−1\\n0.1.2 Counting',\n",
       " ' Techniques\\nDeﬁnition 0.']"
      ]
     },
     "execution_count": 22,
     "metadata": {},
     "output_type": "execute_result"
    }
   ],
   "source": [
    "from langchain.text_splitter import TokenTextSplitter\n",
    "text_splitter = TokenTextSplitter(\n",
    "    chunk_size=10,\n",
    "    chunk_overlap=0\n",
    ")\n",
    "docs = text_splitter.split_documents(pages)\n",
    "[docs[i].page_content for i in range(10)] # just show the first 10 chunks"
   ]
  },
  {
   "cell_type": "markdown",
   "id": "bdf3153c",
   "metadata": {},
   "source": [
    "### Context aware splitting"
   ]
  },
  {
   "cell_type": "markdown",
   "id": "5f9985f5",
   "metadata": {},
   "source": [
    "Ideally we would be able to use a loader that uses `Mathpix` to make this even more context aware and then use the `LatexTextSplitter`. That would look something like...\n",
    "\n",
    "```python\n",
    "from langchain_community.document_loaders import MathpixPDFLoader\n",
    "from langchain.text_splitter import LatexTextSplitter\n",
    "\n",
    "loader = MathpixPDFLoader(\"path/to/your/math-heavy.pdf\")\n",
    "documents = loader.load()\n",
    "\n",
    "splitter = LatexTextSplitter(chunk_size=200, chunk_overlap=10)\n",
    "docs = splitter.split_documents(documents)\n",
    "```\n",
    "\n",
    "For now, let's proceed with how we have the documents loaded at this point"
   ]
  },
  {
   "cell_type": "code",
   "execution_count": 23,
   "id": "b463b2f2",
   "metadata": {},
   "outputs": [
    {
     "data": {
      "text/plain": [
       "['Fall 2019\\nMSSC 6010\\nLectures Peter Dobbs\\n0.1 Summary\\n0.1.1 Recall\\nUseful Derivatives\\n∂ln f(x)\\n∂x =\\n∂\\n∂xf(x)\\nf(x)\\n∂\\n∂θ ·θ−m = −θ−m−1\\n0.1.2 Counting Techniques\\nDeﬁnition 0.1. Combinations - ”n choose',\n",
       " '”n choose k”\\nCk,n =\\n(n\\nk\\n)\\n= n!\\nk!(n−k)! (0.1)\\n0.1.3 Axiomatic Probability\\nThe Three Axioms of Probability Consider an experiment with sample space Ω. For each\\nevent E of the sample space Ω. assume',\n",
       " 'Ω. assume that a number P(E) is deﬁned that satisﬁes the following\\nthree axioms:\\n1. 0 ≤P(E) ≤1\\n2. P(Ω) = 1\\n3. For any sequence of mutually exclusive events E1,E2,... (that is Ei ∩Ej = ∅) for all i̸=',\n",
       " 'all i̸= j,\\nP\\n(∞⋃\\ni=1\\n)\\n=\\n∞∑\\ni=1\\nP\\n(\\nEi\\n)\\nTheorem 0.2. Bayes Theorem\\nP(B|A) = P(A|B) ·P(B)\\nP(A) (0.2)\\n0.1.4 Markov’s Theorem and Chebyshev’s Inequality\\nDeﬁnition 0.3. Chebyshev’s Inequality – Can be',\n",
       " '– Can be stated as any of\\n(a) P(|X−µ|≥ k) ≤σ2\\nk2\\n(b) P(|X−µ|<k) ≥1 −σ2\\nk2\\n(c) P(|X−µ|≥ kσ) ≤ 1\\nk2\\n(d) P(|X−µ|<kσ ) ≥1 − 1\\nk2\\n1',\n",
       " 'Fall 2019\\nMSSC 6010\\nLectures Peter Dobbs\\n0.1.5 Distribution Use Summary\\nDistribution Use\\nBinomial Let X be number of success events in event set, size n.\\nThen X ∼Bin(n,π).\\nPoisson Let X be number of',\n",
       " 'number of particular events occur within deﬁned time or space\\nThen X ∼Pois(λ)\\nGeometric Let X be number of failure events before success event.\\nThen X ∼Geo(π).\\n0.1.6 t-Distribution\\n1. has similar',\n",
       " 'similar shape as N(0,1), but is ﬂatter\\n2. is symmetric around 0, like N(0,1) is\\n3. has range from −∞to ∞\\n4. depends on the degrees of freedom df\\n5. as the dfincreases, t-distribution approaches',\n",
       " 'N(0,1)\\n6. Applet: understanding the t-distribution\\n0.1.7 Methods of Moments (MOM) Estimators\\nαr = E[Xr] mr = 1\\nn\\nn∑\\ni=1\\nXr\\ni\\n\\uf8f1\\n\\uf8f4\\uf8f4\\uf8f4\\uf8f4\\uf8f2\\n\\uf8f4\\uf8f4\\uf8f4\\uf8f4\\uf8f3\\nα1(θ1,...,θ k) = m1\\nα2(θ1,...,θ k) = m2\\n... ...\\nαk(θ1,...,θ',\n",
       " 'k) = mk\\n2']"
      ]
     },
     "execution_count": 23,
     "metadata": {},
     "output_type": "execute_result"
    }
   ],
   "source": [
    "from langchain.text_splitter import LatexTextSplitter\n",
    "\n",
    "splitter = LatexTextSplitter(\n",
    "    chunk_size=200,\n",
    "    chunk_overlap=10\n",
    ")\n",
    "docs = splitter.split_documents(pages)\n",
    "[docs[i].page_content for i in range(10)] # just show the first 10 chunks"
   ]
  },
  {
   "cell_type": "markdown",
   "id": "7732f44d",
   "metadata": {},
   "source": [
    "## Vectors and Embeddings"
   ]
  },
  {
   "cell_type": "code",
   "execution_count": null,
   "id": "5c678028",
   "metadata": {},
   "outputs": [],
   "source": [
    "%pip install chromadb --user"
   ]
  },
  {
   "cell_type": "code",
   "execution_count": 1,
   "id": "e7e939b6",
   "metadata": {},
   "outputs": [],
   "source": [
    "import os\n",
    "import sys\n",
    "sys.path.append('../..')\n",
    "\n",
    "from dotenv import load_dotenv, find_dotenv\n",
    "_ = load_dotenv(find_dotenv()) # read local .env file\n",
    "\n",
    "openai_api_key  = os.environ['OPENAI_API_KEY_1']"
   ]
  },
  {
   "cell_type": "markdown",
   "id": "d7584926",
   "metadata": {},
   "source": [
    "Start by loading in some PDF documents from local storage. These documents are all my own work for a graduate level math course."
   ]
  },
  {
   "cell_type": "code",
   "execution_count": 2,
   "id": "249733cd",
   "metadata": {},
   "outputs": [
    {
     "data": {
      "text/plain": [
       "142"
      ]
     },
     "execution_count": 2,
     "metadata": {},
     "output_type": "execute_result"
    }
   ],
   "source": [
    "# Load\n",
    "from langchain.document_loaders import PyPDFLoader\n",
    "\n",
    "loaders = [\n",
    "    # Duplicate documents on purpose - messy data\n",
    "    PyPDFLoader(\"pdf_data/mssc6010_lectures.pdf\", extract_images=True),\n",
    "    PyPDFLoader(\"pdf_data/mssc6010_hw_all.pdf\", extract_images=True),\n",
    "    PyPDFLoader(\"latex_docs/FinalNotesSheet.pdf\", extract_images=True), # this is just a scanned image\n",
    "    PyPDFLoader(\"pdf_data/mssc6010_hw_all.pdf\", extract_images=True)\n",
    "]\n",
    "docs = []\n",
    "for loader in loaders:\n",
    "    docs.extend(loader.load())\n",
    "len(docs)"
   ]
  },
  {
   "cell_type": "code",
   "execution_count": null,
   "id": "e6d6d5e3",
   "metadata": {},
   "outputs": [
    {
     "data": {
      "text/plain": [
       "223"
      ]
     },
     "execution_count": 3,
     "metadata": {},
     "output_type": "execute_result"
    }
   ],
   "source": [
    "# Split\n",
    "from langchain.text_splitter import RecursiveCharacterTextSplitter\n",
    "text_splitter = RecursiveCharacterTextSplitter(\n",
    "    chunk_size = 500,\n",
    "    chunk_overlap = 76\n",
    ")\n",
    "splits = text_splitter.split_documents(docs)\n",
    "len(splits)"
   ]
  },
  {
   "cell_type": "code",
   "execution_count": 6,
   "id": "951bd095",
   "metadata": {},
   "outputs": [],
   "source": [
    "# Embed\n",
    "from langchain.embeddings.openai import OpenAIEmbeddings\n",
    "embedding = OpenAIEmbeddings(api_key=openai_api_key)"
   ]
  },
  {
   "cell_type": "code",
   "execution_count": null,
   "id": "266fbb0c",
   "metadata": {},
   "outputs": [],
   "source": [
    "# Vectorstores\n",
    "from langchain.vectorstores import Chroma\n",
    "persist_directory = 'docs/chroma'\n",
    "!rm -rf ./docs/chroma # clear out the persist directory\n",
    "\n",
    "vectordb = Chroma.from_documents(\n",
    "    documents=splits,\n",
    "    embedding=embedding,\n",
    "    persist_directory=persist_directory\n",
    ")\n",
    "print(vectordb._collection.count())"
   ]
  },
  {
   "cell_type": "markdown",
   "id": "20ca5724",
   "metadata": {},
   "source": [
    "Now let's try some searching"
   ]
  },
  {
   "cell_type": "code",
   "execution_count": null,
   "id": "3a6a2919",
   "metadata": {},
   "outputs": [],
   "source": [
    "question = \"what is Bayes Theorem?\"\n",
    "result_docs = vectordb.similarity_search(question, k=4)\n",
    "[result_docs[i].page_content for i in range(len(result_docs))] \n",
    "# should give the top 4 resulting documents that have similarity to the question"
   ]
  },
  {
   "cell_type": "code",
   "execution_count": null,
   "id": "d626ac8c",
   "metadata": {},
   "outputs": [],
   "source": [
    "question = \"What is the theoretical mean of a Laplace distribution?\"\n",
    "result_docs = vectordb.similarity_search(question, k=4)\n",
    "[result_docs[i].page_content for i in range(len(result_docs))] \n",
    "# should give the top 4 resulting documents that have similarity to the question"
   ]
  },
  {
   "cell_type": "markdown",
   "id": "a7dba0fb",
   "metadata": {},
   "source": [
    "## Retrieval"
   ]
  },
  {
   "cell_type": "code",
   "execution_count": null,
   "id": "3b1378d4",
   "metadata": {},
   "outputs": [],
   "source": []
  },
  {
   "cell_type": "markdown",
   "id": "b0993f9f",
   "metadata": {},
   "source": [
    "## Question Answering"
   ]
  },
  {
   "cell_type": "code",
   "execution_count": null,
   "id": "73386464",
   "metadata": {},
   "outputs": [],
   "source": [
    "# import os\n",
    "# os.environ[\"LANGCHAIN_TRACING_V2\"] = \"true\"\n",
    "# os.environ[\"LANGCHAIN_ENDPOINT\"] = \"https://api.langchain.plus\"\n",
    "# os.environ[\"LANGCHAIN_API_KEY\"] = \"...\""
   ]
  },
  {
   "cell_type": "code",
   "execution_count": null,
   "id": "ba5d58a3",
   "metadata": {},
   "outputs": [],
   "source": [
    "question = \"what is Bayes Theorem?\"\n",
    "docs = vectordb.similarity_search(question,k=3)\n",
    "len(docs)"
   ]
  },
  {
   "cell_type": "code",
   "execution_count": null,
   "metadata": {},
   "outputs": [],
   "source": [
    "from langchain.chat_models import ChatOpenAI\n",
    "from langchain.chains import RetrievalQA\n",
    "llm_name = \"gpt-4.5-turbo\"\n",
    "llm = ChatOpenAI(model_name=llm_name, temperature=0)\n",
    "qa_chain = RetrievalQA.from_chain_type(\n",
    "    llm,\n",
    "    retriever=vectordb.as_retriever()\n",
    ")"
   ]
  },
  {
   "cell_type": "code",
   "execution_count": null,
   "id": "5e34ab3a",
   "metadata": {},
   "outputs": [],
   "source": [
    "# Build prompt\n",
    "from langchain.prompts import PromptTemplate\n",
    "template = \"\"\"Use the following pieces of context to answer the question at the end. If you don't know the answer, just say that you don't know, don't try to make up an answer. Use three sentences maximum. Keep the answer as concise as possible. \n",
    "{context}\n",
    "Question: {question}\n",
    "Helpful Answer:\"\"\"\n",
    "QA_CHAIN_PROMPT = PromptTemplate(input_variables=[\"context\", \"question\"],template=template,)\n",
    "\n",
    "# Run chain\n",
    "from langchain.chains import RetrievalQA\n",
    "question = \"what is Bayes Theorem?\"\n",
    "qa_chain = RetrievalQA.from_chain_type(llm,\n",
    "                                       retriever=vectordb.as_retriever(),\n",
    "                                       return_source_documents=True,\n",
    "                                       chain_type_kwargs={\"prompt\": QA_CHAIN_PROMPT})\n",
    "\n",
    "\n",
    "result = qa_chain({\"query\": question})\n",
    "result[\"result\"]"
   ]
  },
  {
   "cell_type": "markdown",
   "id": "a1dd8b91",
   "metadata": {},
   "source": [
    "## Memory"
   ]
  },
  {
   "cell_type": "code",
   "execution_count": null,
   "id": "2fd0ac0d",
   "metadata": {},
   "outputs": [],
   "source": [
    "from langchain.memory import ConversationBufferMemory\n",
    "from langchain.chains import ConversationalRetrievalChain\n",
    "\n",
    "memory = ConversationBufferMemory(\n",
    "    memory_key=\"chat_history\",\n",
    "    return_messages=True\n",
    ")\n",
    "\n",
    "retriever=vectordb.as_retriever()\n",
    "qa = ConversationalRetrievalChain.from_llm(\n",
    "    llm,\n",
    "    retriever=retriever,\n",
    "    memory=memory\n",
    ")"
   ]
  },
  {
   "cell_type": "code",
   "execution_count": null,
   "id": "0a852156",
   "metadata": {},
   "outputs": [],
   "source": [
    "question = \"what is Bayes Theorem?\"\n",
    "result = qa({\"question\": question})\n",
    "result['answer']"
   ]
  },
  {
   "cell_type": "code",
   "execution_count": null,
   "id": "c8ba4f7e",
   "metadata": {},
   "outputs": [],
   "source": [
    "question = \"how is Bayes Theorem used?\""
   ]
  }
 ],
 "metadata": {
  "kernelspec": {
   "display_name": "Python 3",
   "language": "python",
   "name": "python3"
  },
  "language_info": {
   "codemirror_mode": {
    "name": "ipython",
    "version": 3
   },
   "file_extension": ".py",
   "mimetype": "text/x-python",
   "name": "python",
   "nbconvert_exporter": "python",
   "pygments_lexer": "ipython3",
   "version": "3.12.0"
  }
 },
 "nbformat": 4,
 "nbformat_minor": 5
}
