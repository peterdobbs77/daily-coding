{
 "cells": [
  {
   "cell_type": "code",
   "execution_count": 1,
   "id": "05119138",
   "metadata": {},
   "outputs": [
    {
     "name": "stdout",
     "output_type": "stream",
     "text": [
      "Note: you may need to restart the kernel to use updated packages.\n"
     ]
    },
    {
     "name": "stderr",
     "output_type": "stream",
     "text": [
      "ERROR: Invalid requirement: 'openai,': Expected end or semicolon (after name and no valid version specifier)\n",
      "    openai,\n",
      "          ^\n"
     ]
    }
   ],
   "source": [
    "%pip install openai, dotenv"
   ]
  },
  {
   "cell_type": "code",
   "execution_count": null,
   "id": "3e12901c",
   "metadata": {},
   "outputs": [],
   "source": [
    "import os\n",
    "import openai\n",
    "import sys\n",
    "sys.path.append('../..')\n",
    "from dotenv import load_dotenv, find_dotenv\n",
    "_ = load_dotenv(find_dotenv()) # read local .env file\n",
    "\n",
    "openai.api_key  = os.environ['OPENAI_API_KEY_1']"
   ]
  },
  {
   "cell_type": "markdown",
   "id": "0defadb4",
   "metadata": {},
   "source": [
    "## PDFs\n",
    "\n",
    "Let's load some of my PDFs from grad school"
   ]
  }
 ],
 "metadata": {
  "kernelspec": {
   "display_name": "Python 3",
   "language": "python",
   "name": "python3"
  },
  "language_info": {
   "codemirror_mode": {
    "name": "ipython",
    "version": 3
   },
   "file_extension": ".py",
   "mimetype": "text/x-python",
   "name": "python",
   "nbconvert_exporter": "python",
   "pygments_lexer": "ipython3",
   "version": "3.12.0"
  }
 },
 "nbformat": 4,
 "nbformat_minor": 5
}
