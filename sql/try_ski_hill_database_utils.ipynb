{
 "cells": [
  {
   "cell_type": "code",
   "execution_count": 1,
   "id": "87c5f4bf",
   "metadata": {},
   "outputs": [],
   "source": [
    "import ski_hill_database_utils\n",
    "import utils\n",
    "DB_PATH = \"ski_hill.db\""
   ]
  },
  {
   "cell_type": "markdown",
   "id": "ee23ef7d",
   "metadata": {},
   "source": [
    "Populate database with synthetic data"
   ]
  },
  {
   "cell_type": "code",
   "execution_count": 2,
   "id": "a2035833",
   "metadata": {},
   "outputs": [
    {
     "name": "stdout",
     "output_type": "stream",
     "text": [
      "SQLite database 'ski_hill.db' created with a 'mountain_huts' table and 'trails' table.\n"
     ]
    }
   ],
   "source": [
    "ski_hill_database_utils.create_ski_hill_db(DB_PATH, n_huts=5)"
   ]
  },
  {
   "cell_type": "code",
   "execution_count": 3,
   "id": "65b7af35",
   "metadata": {},
   "outputs": [
    {
     "data": {
      "text/html": [
       "\n",
       "    <style>\n",
       "    .pretty-card{\n",
       "      font-family: ui-sans-serif, system-ui;\n",
       "      border: 2px solid transparent;\n",
       "      border-radius: 14px;\n",
       "      padding: 14px 16px;\n",
       "      margin: 10px 0;\n",
       "      background: linear-gradient(#fff, #fff) padding-box,\n",
       "                  linear-gradient(135deg, #3b82f6, #9333ea) border-box;\n",
       "      color: #111;\n",
       "      box-shadow: 0 4px 12px rgba(0,0,0,.08);\n",
       "    }\n",
       "    .pretty-title{\n",
       "      font-weight:700;\n",
       "      margin-bottom:8px;\n",
       "      font-size:14px;\n",
       "      color:#111;\n",
       "    }\n",
       "    /* 🔒 Only affects INSIDE the card */\n",
       "    .pretty-card pre, \n",
       "    .pretty-card code {\n",
       "      background: #f3f4f6;\n",
       "      color: #111;\n",
       "      padding: 8px;\n",
       "      border-radius: 8px;\n",
       "      display: block;\n",
       "      overflow-x: auto;\n",
       "      font-size: 13px;\n",
       "      white-space: pre-wrap;\n",
       "    }\n",
       "    .pretty-card img { max-width: 100%; height: auto; border-radius: 8px; }\n",
       "    .pretty-card table.pretty-table {\n",
       "      border-collapse: collapse;\n",
       "      width: 100%;\n",
       "      font-size: 13px;\n",
       "      color: #111;\n",
       "    }\n",
       "    .pretty-card table.pretty-table th, \n",
       "    .pretty-card table.pretty-table td {\n",
       "      border: 1px solid #e5e7eb;\n",
       "      padding: 6px 8px;\n",
       "      text-align: left;\n",
       "    }\n",
       "    .pretty-card table.pretty-table th { background: #f9fafb; font-weight: 600; }\n",
       "    </style>\n",
       "    <div class=\"pretty-card\"><div class=\"pretty-title\">Table Schemas in ski_hill.db</div><pre><code>database at: ski_hill.db\n",
       "\n",
       "table name: mountain_huts\n",
       "id (INTEGER)\n",
       "name (varchar(40))\n",
       "altitude (INTEGER)\n",
       "\n",
       "table name: trails\n",
       "hut1 (INTEGER)\n",
       "hut2 (INTEGER)</code></pre></div>"
      ],
      "text/plain": [
       "<IPython.core.display.HTML object>"
      ]
     },
     "metadata": {},
     "output_type": "display_data"
    }
   ],
   "source": [
    "schema_text = ski_hill_database_utils.get_schema(DB_PATH)\n",
    "utils.print_html(schema_text, f\"Table Schemas in {DB_PATH}\")"
   ]
  },
  {
   "cell_type": "code",
   "execution_count": 4,
   "id": "6c00ecfd",
   "metadata": {},
   "outputs": [
    {
     "name": "stdout",
     "output_type": "stream",
     "text": [
      "Execution failed on sql 'WITH bd_trails AS (\n",
      "        SELECT hut1, hut2 FROM trails\n",
      "        UNION\n",
      "        SELECT hut2 AS hut1, hut1 AS hut2 FROM trails\n",
      "    )\n",
      "    SELECT \n",
      "        start.name AS startpt,\n",
      "        mid.name AS middlept,\n",
      "        end.name AS endpt\n",
      "    FROM bd_trails AS first\n",
      "    JOIN mountain_huts AS start ON start.id = first.hut1\n",
      "    JOIN mountain_huts AS mid ON mid.id = first.hut2\n",
      "    JOIN LATERAL (\n",
      "        SELECT hut2\n",
      "        FROM bd_trails\n",
      "        WHERE hut1 = first.hut2\n",
      "    ) AS second ON true\n",
      "    JOIN mountain_huts AS end ON end.id = second.hut2\n",
      "    WHERE start.altitude > mid.altitude AND mid.altitude > end.altitude;': near \"SELECT\": syntax error\n"
     ]
    },
    {
     "data": {
      "text/html": [
       "\n",
       "    <style>\n",
       "    .pretty-card{\n",
       "      font-family: ui-sans-serif, system-ui;\n",
       "      border: 2px solid transparent;\n",
       "      border-radius: 14px;\n",
       "      padding: 14px 16px;\n",
       "      margin: 10px 0;\n",
       "      background: linear-gradient(#fff, #fff) padding-box,\n",
       "                  linear-gradient(135deg, #3b82f6, #9333ea) border-box;\n",
       "      color: #111;\n",
       "      box-shadow: 0 4px 12px rgba(0,0,0,.08);\n",
       "    }\n",
       "    .pretty-title{\n",
       "      font-weight:700;\n",
       "      margin-bottom:8px;\n",
       "      font-size:14px;\n",
       "      color:#111;\n",
       "    }\n",
       "    /* 🔒 Only affects INSIDE the card */\n",
       "    .pretty-card pre, \n",
       "    .pretty-card code {\n",
       "      background: #f3f4f6;\n",
       "      color: #111;\n",
       "      padding: 8px;\n",
       "      border-radius: 8px;\n",
       "      display: block;\n",
       "      overflow-x: auto;\n",
       "      font-size: 13px;\n",
       "      white-space: pre-wrap;\n",
       "    }\n",
       "    .pretty-card img { max-width: 100%; height: auto; border-radius: 8px; }\n",
       "    .pretty-card table.pretty-table {\n",
       "      border-collapse: collapse;\n",
       "      width: 100%;\n",
       "      font-size: 13px;\n",
       "      color: #111;\n",
       "    }\n",
       "    .pretty-card table.pretty-table th, \n",
       "    .pretty-card table.pretty-table td {\n",
       "      border: 1px solid #e5e7eb;\n",
       "      padding: 6px 8px;\n",
       "      text-align: left;\n",
       "    }\n",
       "    .pretty-card table.pretty-table th { background: #f9fafb; font-weight: 600; }\n",
       "    </style>\n",
       "    <div class=\"pretty-card\"><div class=\"pretty-title\">\n",
       "    WITH bd_trails AS (\n",
       "        SELECT hut1, hut2 FROM trails\n",
       "        UNION\n",
       "        SELECT hut2 AS hut1, hut1 AS hut2 FROM trails\n",
       "    )\n",
       "    SELECT \n",
       "        start.name AS startpt,\n",
       "        mid.name AS middlept,\n",
       "        end.name AS endpt\n",
       "    FROM bd_trails AS first\n",
       "    JOIN mountain_huts AS start ON start.id = first.hut1\n",
       "    JOIN mountain_huts AS mid ON mid.id = first.hut2\n",
       "    JOIN LATERAL (\n",
       "        SELECT hut2\n",
       "        FROM bd_trails\n",
       "        WHERE hut1 = first.hut2\n",
       "    ) AS second ON true\n",
       "    JOIN mountain_huts AS end ON end.id = second.hut2\n",
       "    WHERE start.altitude > mid.altitude AND mid.altitude > end.altitude;\n",
       "    </div><table class=\"dataframe pretty-table\">\n",
       "  <thead>\n",
       "    <tr style=\"text-align: right;\">\n",
       "      <th>error</th>\n",
       "    </tr>\n",
       "  </thead>\n",
       "  <tbody>\n",
       "    <tr>\n",
       "      <td>Execution failed on sql 'WITH bd_trails AS (\\n        SELECT hut1, hut2 FROM trails\\n        UNION\\n        SELECT hut2 AS hut1, hut1 AS hut2 FROM trails\\n    )\\n    SELECT \\n        start.name AS startpt,\\n        mid.name AS middlept,\\n        end.name AS endpt\\n    FROM bd_trails AS first\\n    JOIN mountain_huts AS start ON start.id = first.hut1\\n    JOIN mountain_huts AS mid ON mid.id = first.hut2\\n    JOIN LATERAL (\\n        SELECT hut2\\n        FROM bd_trails\\n        WHERE hut1 = first.hut2\\n    ) AS second ON true\\n    JOIN mountain_huts AS end ON end.id = second.hut2\\n    WHERE start.altitude > mid.altitude AND mid.altitude > end.altitude;': near \"SELECT\": syntax error</td>\n",
       "    </tr>\n",
       "  </tbody>\n",
       "</table></div>"
      ],
      "text/plain": [
       "<IPython.core.display.HTML object>"
      ]
     },
     "metadata": {},
     "output_type": "display_data"
    }
   ],
   "source": [
    "query = \"\"\"\n",
    "    WITH bd_trails AS (\n",
    "        SELECT hut1, hut2 FROM trails\n",
    "        UNION\n",
    "        SELECT hut2 AS hut1, hut1 AS hut2 FROM trails\n",
    "    )\n",
    "    SELECT \n",
    "        start.name AS startpt,\n",
    "        mid.name AS middlept,\n",
    "        end.name AS endpt\n",
    "    FROM bd_trails AS first\n",
    "    JOIN mountain_huts AS start ON start.id = first.hut1\n",
    "    JOIN mountain_huts AS mid ON mid.id = first.hut2\n",
    "    JOIN LATERAL (\n",
    "        SELECT hut2\n",
    "        FROM bd_trails\n",
    "        WHERE hut1 = first.hut2\n",
    "    ) AS second ON true\n",
    "    JOIN mountain_huts AS end ON end.id = second.hut2\n",
    "    WHERE start.altitude > mid.altitude AND mid.altitude > end.altitude;\n",
    "    \"\"\"\n",
    "results = ski_hill_database_utils.execute_sql(\n",
    "    query=query,\n",
    "    db_path=DB_PATH)\n",
    "utils.print_html(results, query)"
   ]
  }
 ],
 "metadata": {
  "kernelspec": {
   "display_name": "Python 3",
   "language": "python",
   "name": "python3"
  },
  "language_info": {
   "codemirror_mode": {
    "name": "ipython",
    "version": 3
   },
   "file_extension": ".py",
   "mimetype": "text/x-python",
   "name": "python",
   "nbconvert_exporter": "python",
   "pygments_lexer": "ipython3",
   "version": "3.12.0"
  }
 },
 "nbformat": 4,
 "nbformat_minor": 5
}
