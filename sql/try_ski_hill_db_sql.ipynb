{
 "cells": [
  {
   "cell_type": "code",
   "execution_count": 1,
   "id": "87c5f4bf",
   "metadata": {},
   "outputs": [],
   "source": [
    "import ski_hill_database_utils\n",
    "import utils\n",
    "DB_PATH = \"ski_hill.db\""
   ]
  },
  {
   "cell_type": "markdown",
   "id": "ee23ef7d",
   "metadata": {},
   "source": [
    "Populate database with synthetic data"
   ]
  },
  {
   "cell_type": "code",
   "execution_count": 2,
   "id": "a2035833",
   "metadata": {},
   "outputs": [
    {
     "name": "stdout",
     "output_type": "stream",
     "text": [
      "SQLite database 'ski_hill.db' created with a 'mountain_huts' table and 'trails' table.\n"
     ]
    }
   ],
   "source": [
    "ski_hill_database_utils.create_ski_hill_db(DB_PATH, n_huts=20)"
   ]
  },
  {
   "cell_type": "code",
   "execution_count": 3,
   "id": "65b7af35",
   "metadata": {},
   "outputs": [
    {
     "data": {
      "text/html": [
       "\n",
       "    <style>\n",
       "    .pretty-card{\n",
       "      font-family: ui-sans-serif, system-ui;\n",
       "      border: 2px solid transparent;\n",
       "      border-radius: 14px;\n",
       "      padding: 14px 16px;\n",
       "      margin: 10px 0;\n",
       "      background: linear-gradient(#fff, #fff) padding-box,\n",
       "                  linear-gradient(135deg, #3b82f6, #9333ea) border-box;\n",
       "      color: #111;\n",
       "      box-shadow: 0 4px 12px rgba(0,0,0,.08);\n",
       "    }\n",
       "    .pretty-title{\n",
       "      font-weight:700;\n",
       "      margin-bottom:8px;\n",
       "      font-size:14px;\n",
       "      color:#111;\n",
       "    }\n",
       "    /* 🔒 Only affects INSIDE the card */\n",
       "    .pretty-card pre, \n",
       "    .pretty-card code {\n",
       "      background: #f3f4f6;\n",
       "      color: #111;\n",
       "      padding: 8px;\n",
       "      border-radius: 8px;\n",
       "      display: block;\n",
       "      overflow-x: auto;\n",
       "      font-size: 13px;\n",
       "      white-space: pre-wrap;\n",
       "    }\n",
       "    .pretty-card img { max-width: 100%; height: auto; border-radius: 8px; }\n",
       "    .pretty-card table.pretty-table {\n",
       "      border-collapse: collapse;\n",
       "      width: 100%;\n",
       "      font-size: 13px;\n",
       "      color: #111;\n",
       "    }\n",
       "    .pretty-card table.pretty-table th, \n",
       "    .pretty-card table.pretty-table td {\n",
       "      border: 1px solid #e5e7eb;\n",
       "      padding: 6px 8px;\n",
       "      text-align: left;\n",
       "    }\n",
       "    .pretty-card table.pretty-table th { background: #f9fafb; font-weight: 600; }\n",
       "    </style>\n",
       "    <div class=\"pretty-card\"><div class=\"pretty-title\">Table Schemas in ski_hill.db</div><pre><code>database at: ski_hill.db\n",
       "\n",
       "table name: mountain_huts\n",
       "id (INTEGER)\n",
       "name (varchar(40))\n",
       "altitude (INTEGER)\n",
       "\n",
       "table name: trails\n",
       "hut1 (INTEGER)\n",
       "hut2 (INTEGER)</code></pre></div>"
      ],
      "text/plain": [
       "<IPython.core.display.HTML object>"
      ]
     },
     "metadata": {},
     "output_type": "display_data"
    }
   ],
   "source": [
    "schema_text = ski_hill_database_utils.get_schema(DB_PATH)\n",
    "utils.print_html(schema_text, f\"Table Schemas in {DB_PATH}\")"
   ]
  },
  {
   "cell_type": "markdown",
   "id": "fd88e4ca",
   "metadata": {},
   "source": [
    "Get a sense of the data by showing the first 5 entries in each table"
   ]
  },
  {
   "cell_type": "code",
   "execution_count": 4,
   "id": "48867f47",
   "metadata": {},
   "outputs": [
    {
     "data": {
      "text/html": [
       "\n",
       "    <style>\n",
       "    .pretty-card{\n",
       "      font-family: ui-sans-serif, system-ui;\n",
       "      border: 2px solid transparent;\n",
       "      border-radius: 14px;\n",
       "      padding: 14px 16px;\n",
       "      margin: 10px 0;\n",
       "      background: linear-gradient(#fff, #fff) padding-box,\n",
       "                  linear-gradient(135deg, #3b82f6, #9333ea) border-box;\n",
       "      color: #111;\n",
       "      box-shadow: 0 4px 12px rgba(0,0,0,.08);\n",
       "    }\n",
       "    .pretty-title{\n",
       "      font-weight:700;\n",
       "      margin-bottom:8px;\n",
       "      font-size:14px;\n",
       "      color:#111;\n",
       "    }\n",
       "    /* 🔒 Only affects INSIDE the card */\n",
       "    .pretty-card pre, \n",
       "    .pretty-card code {\n",
       "      background: #f3f4f6;\n",
       "      color: #111;\n",
       "      padding: 8px;\n",
       "      border-radius: 8px;\n",
       "      display: block;\n",
       "      overflow-x: auto;\n",
       "      font-size: 13px;\n",
       "      white-space: pre-wrap;\n",
       "    }\n",
       "    .pretty-card img { max-width: 100%; height: auto; border-radius: 8px; }\n",
       "    .pretty-card table.pretty-table {\n",
       "      border-collapse: collapse;\n",
       "      width: 100%;\n",
       "      font-size: 13px;\n",
       "      color: #111;\n",
       "    }\n",
       "    .pretty-card table.pretty-table th, \n",
       "    .pretty-card table.pretty-table td {\n",
       "      border: 1px solid #e5e7eb;\n",
       "      padding: 6px 8px;\n",
       "      text-align: left;\n",
       "    }\n",
       "    .pretty-card table.pretty-table th { background: #f9fafb; font-weight: 600; }\n",
       "    </style>\n",
       "    <div class=\"pretty-card\"><div class=\"pretty-title\">select * from mountain_huts limit 5;</div><table class=\"dataframe pretty-table\">\n",
       "  <thead>\n",
       "    <tr style=\"text-align: right;\">\n",
       "      <th>id</th>\n",
       "      <th>name</th>\n",
       "      <th>altitude</th>\n",
       "    </tr>\n",
       "  </thead>\n",
       "  <tbody>\n",
       "    <tr>\n",
       "      <td>1</td>\n",
       "      <td>Septuagint Goodall</td>\n",
       "      <td>13518</td>\n",
       "    </tr>\n",
       "    <tr>\n",
       "      <td>2</td>\n",
       "      <td>Goodall Base</td>\n",
       "      <td>9642</td>\n",
       "    </tr>\n",
       "    <tr>\n",
       "      <td>3</td>\n",
       "      <td>Llama Jackolantern II</td>\n",
       "      <td>10373</td>\n",
       "    </tr>\n",
       "    <tr>\n",
       "      <td>4</td>\n",
       "      <td>Zephyr Tibult</td>\n",
       "      <td>12502</td>\n",
       "    </tr>\n",
       "    <tr>\n",
       "      <td>5</td>\n",
       "      <td>Deepti Abby</td>\n",
       "      <td>10699</td>\n",
       "    </tr>\n",
       "  </tbody>\n",
       "</table></div>"
      ],
      "text/plain": [
       "<IPython.core.display.HTML object>"
      ]
     },
     "metadata": {},
     "output_type": "display_data"
    },
    {
     "data": {
      "text/html": [
       "\n",
       "    <style>\n",
       "    .pretty-card{\n",
       "      font-family: ui-sans-serif, system-ui;\n",
       "      border: 2px solid transparent;\n",
       "      border-radius: 14px;\n",
       "      padding: 14px 16px;\n",
       "      margin: 10px 0;\n",
       "      background: linear-gradient(#fff, #fff) padding-box,\n",
       "                  linear-gradient(135deg, #3b82f6, #9333ea) border-box;\n",
       "      color: #111;\n",
       "      box-shadow: 0 4px 12px rgba(0,0,0,.08);\n",
       "    }\n",
       "    .pretty-title{\n",
       "      font-weight:700;\n",
       "      margin-bottom:8px;\n",
       "      font-size:14px;\n",
       "      color:#111;\n",
       "    }\n",
       "    /* 🔒 Only affects INSIDE the card */\n",
       "    .pretty-card pre, \n",
       "    .pretty-card code {\n",
       "      background: #f3f4f6;\n",
       "      color: #111;\n",
       "      padding: 8px;\n",
       "      border-radius: 8px;\n",
       "      display: block;\n",
       "      overflow-x: auto;\n",
       "      font-size: 13px;\n",
       "      white-space: pre-wrap;\n",
       "    }\n",
       "    .pretty-card img { max-width: 100%; height: auto; border-radius: 8px; }\n",
       "    .pretty-card table.pretty-table {\n",
       "      border-collapse: collapse;\n",
       "      width: 100%;\n",
       "      font-size: 13px;\n",
       "      color: #111;\n",
       "    }\n",
       "    .pretty-card table.pretty-table th, \n",
       "    .pretty-card table.pretty-table td {\n",
       "      border: 1px solid #e5e7eb;\n",
       "      padding: 6px 8px;\n",
       "      text-align: left;\n",
       "    }\n",
       "    .pretty-card table.pretty-table th { background: #f9fafb; font-weight: 600; }\n",
       "    </style>\n",
       "    <div class=\"pretty-card\"><div class=\"pretty-title\">select * from trails limit 5;</div><table class=\"dataframe pretty-table\">\n",
       "  <thead>\n",
       "    <tr style=\"text-align: right;\">\n",
       "      <th>hut1</th>\n",
       "      <th>hut2</th>\n",
       "    </tr>\n",
       "  </thead>\n",
       "  <tbody>\n",
       "    <tr>\n",
       "      <td>16</td>\n",
       "      <td>1</td>\n",
       "    </tr>\n",
       "    <tr>\n",
       "      <td>3</td>\n",
       "      <td>2</td>\n",
       "    </tr>\n",
       "    <tr>\n",
       "      <td>17</td>\n",
       "      <td>3</td>\n",
       "    </tr>\n",
       "    <tr>\n",
       "      <td>10</td>\n",
       "      <td>4</td>\n",
       "    </tr>\n",
       "    <tr>\n",
       "      <td>7</td>\n",
       "      <td>5</td>\n",
       "    </tr>\n",
       "  </tbody>\n",
       "</table></div>"
      ],
      "text/plain": [
       "<IPython.core.display.HTML object>"
      ]
     },
     "metadata": {},
     "output_type": "display_data"
    }
   ],
   "source": [
    "query_all_mountain_huts = \"select * from mountain_huts limit 5;\"\n",
    "all_mountain_huts = ski_hill_database_utils.execute_sql(\n",
    "    query=query_all_mountain_huts,\n",
    "    db_path=DB_PATH)\n",
    "utils.print_html(all_mountain_huts, query_all_mountain_huts)\n",
    "query_all_trails = \"select * from trails limit 5;\"\n",
    "all_trails = ski_hill_database_utils.execute_sql(\n",
    "    query=query_all_trails,\n",
    "    db_path=DB_PATH)\n",
    "utils.print_html(all_trails, query_all_trails)"
   ]
  },
  {
   "cell_type": "markdown",
   "id": "aabc183c",
   "metadata": {},
   "source": [
    "Write SQL query to propose new ski routes, based on the existing `mountain_huts` and `trails`."
   ]
  },
  {
   "cell_type": "code",
   "execution_count": 6,
   "id": "6c00ecfd",
   "metadata": {},
   "outputs": [
    {
     "data": {
      "text/html": [
       "\n",
       "    <style>\n",
       "    .pretty-card{\n",
       "      font-family: ui-sans-serif, system-ui;\n",
       "      border: 2px solid transparent;\n",
       "      border-radius: 14px;\n",
       "      padding: 14px 16px;\n",
       "      margin: 10px 0;\n",
       "      background: linear-gradient(#fff, #fff) padding-box,\n",
       "                  linear-gradient(135deg, #3b82f6, #9333ea) border-box;\n",
       "      color: #111;\n",
       "      box-shadow: 0 4px 12px rgba(0,0,0,.08);\n",
       "    }\n",
       "    .pretty-title{\n",
       "      font-weight:700;\n",
       "      margin-bottom:8px;\n",
       "      font-size:14px;\n",
       "      color:#111;\n",
       "    }\n",
       "    /* 🔒 Only affects INSIDE the card */\n",
       "    .pretty-card pre, \n",
       "    .pretty-card code {\n",
       "      background: #f3f4f6;\n",
       "      color: #111;\n",
       "      padding: 8px;\n",
       "      border-radius: 8px;\n",
       "      display: block;\n",
       "      overflow-x: auto;\n",
       "      font-size: 13px;\n",
       "      white-space: pre-wrap;\n",
       "    }\n",
       "    .pretty-card img { max-width: 100%; height: auto; border-radius: 8px; }\n",
       "    .pretty-card table.pretty-table {\n",
       "      border-collapse: collapse;\n",
       "      width: 100%;\n",
       "      font-size: 13px;\n",
       "      color: #111;\n",
       "    }\n",
       "    .pretty-card table.pretty-table th, \n",
       "    .pretty-card table.pretty-table td {\n",
       "      border: 1px solid #e5e7eb;\n",
       "      padding: 6px 8px;\n",
       "      text-align: left;\n",
       "    }\n",
       "    .pretty-card table.pretty-table th { background: #f9fafb; font-weight: 600; }\n",
       "    </style>\n",
       "    <div class=\"pretty-card\"><div class=\"pretty-title\">Proposed Routes</div><table class=\"dataframe pretty-table\">\n",
       "  <thead>\n",
       "    <tr style=\"text-align: right;\">\n",
       "      <th>startpt</th>\n",
       "      <th>middlept</th>\n",
       "      <th>endpt</th>\n",
       "    </tr>\n",
       "  </thead>\n",
       "  <tbody>\n",
       "    <tr>\n",
       "      <td>Deepti Abby</td>\n",
       "      <td>Eileen Eileen</td>\n",
       "      <td>Chalet Frederic</td>\n",
       "    </tr>\n",
       "    <tr>\n",
       "      <td>Deepti Pecunia</td>\n",
       "      <td>Eileen Eileen</td>\n",
       "      <td>Chalet Frederic</td>\n",
       "    </tr>\n",
       "    <tr>\n",
       "      <td>Septuagint Goodall</td>\n",
       "      <td>Koala Septuagint</td>\n",
       "      <td>MarinoJ Vail</td>\n",
       "    </tr>\n",
       "    <tr>\n",
       "      <td>Septuagint Ishi</td>\n",
       "      <td>Koala Septuagint</td>\n",
       "      <td>MarinoJ Vail</td>\n",
       "    </tr>\n",
       "    <tr>\n",
       "      <td>Chalet Frederic 2</td>\n",
       "      <td>Koala Septuagint</td>\n",
       "      <td>MarinoJ Vail</td>\n",
       "    </tr>\n",
       "    <tr>\n",
       "      <td>Tibult Henrik</td>\n",
       "      <td>Chalet Frederic 2</td>\n",
       "      <td>Goodall Base</td>\n",
       "    </tr>\n",
       "    <tr>\n",
       "      <td>Tibult Henrik</td>\n",
       "      <td>Chalet Frederic 2</td>\n",
       "      <td>Koala Septuagint</td>\n",
       "    </tr>\n",
       "    <tr>\n",
       "      <td>Deepti Pecunia</td>\n",
       "      <td>Xerxes Jackolantern</td>\n",
       "      <td>Base Frederic II</td>\n",
       "    </tr>\n",
       "  </tbody>\n",
       "</table></div>"
      ],
      "text/plain": [
       "<IPython.core.display.HTML object>"
      ]
     },
     "metadata": {},
     "output_type": "display_data"
    }
   ],
   "source": [
    "query = \"\"\"\n",
    "    with bd_trails as (\n",
    "        select hut1, hut2 from trails\n",
    "        union\n",
    "        select hut2 as hut1, hut1 as hut2 from trails\n",
    "    )\n",
    "    select starting.name as startpt, middle.name as middlept, ending.name as endpt from bd_trails first_segment\n",
    "    join bd_trails second_segment on first_segment.hut2 = second_segment.hut1\n",
    "    join mountain_huts starting on starting.id = first_segment.hut1\n",
    "    join mountain_huts middle on middle.id = first_segment.hut2\n",
    "    join mountain_huts ending on ending.id = second_segment.hut2\n",
    "    where starting.altitude > middle.altitude and middle.altitude > ending.altitude\n",
    "    \"\"\"\n",
    "results = ski_hill_database_utils.execute_sql(\n",
    "    query=query,\n",
    "    db_path=DB_PATH)\n",
    "utils.print_html(results, \"Proposed Routes\")"
   ]
  },
  {
   "cell_type": "markdown",
   "id": "0252b220",
   "metadata": {},
   "source": [
    "Add summary information for the altitude change"
   ]
  },
  {
   "cell_type": "code",
   "execution_count": null,
   "id": "885d9fc8",
   "metadata": {},
   "outputs": [],
   "source": [
    "query = \"\"\"\n",
    "    with bd_trails as (\n",
    "        select hut1, hut2 from trails\n",
    "        union\n",
    "        select hut2 as hut1, hut1 as hut2 from trails\n",
    "    )\n",
    "    select starting.name as startpt, middle.name as middlept, ending.name as endpt\n",
    "    from bd_trails first_segment\n",
    "    join bd_trails second_segment on first_segment.hut2 = second_segment.hut1\n",
    "    join mountain_huts starting on starting.id = first_segment.hut1\n",
    "    join mountain_huts middle on middle.id = first_segment.hut2\n",
    "    join mountain_huts ending on ending.id = second_segment.hut2\n",
    "    where starting.altitude > middle.altitude and middle.altitude > ending.altitude\n",
    "    \"\"\"\n",
    "results = ski_hill_database_utils.execute_sql(\n",
    "    query=query,\n",
    "    db_path=DB_PATH)\n",
    "utils.print_html(results, \"Proposed Routes and Altitude Change\")"
   ]
  },
  {
   "cell_type": "markdown",
   "id": "2f1fb5b1",
   "metadata": {},
   "source": [
    "Notice that not all `mountain_huts` are in use. Can you find which huts are left off the list? We may want to close those down, or find some other use for them."
   ]
  },
  {
   "cell_type": "markdown",
   "id": "bb2503d7",
   "metadata": {},
   "source": [
    "What if some of the `mountain_huts` are in a state of disrepair?"
   ]
  },
  {
   "cell_type": "code",
   "execution_count": null,
   "id": "5690a75a",
   "metadata": {},
   "outputs": [],
   "source": [
    "# update the database with a new column for hut quality,\n",
    "#   based on \"survey\" done by experts (just randomly generate it, lol)\n",
    "update_query = \"\"\"\n",
    "    UPDATE mountain_huts\n",
    "    \"\"\""
   ]
  },
  {
   "cell_type": "markdown",
   "id": "db86c8b6",
   "metadata": {},
   "source": [
    "What about the quality of the existing routes? Are they a bunny slope, cat track, green, blue, black, double black, backcountry?"
   ]
  },
  {
   "cell_type": "markdown",
   "id": "98e090f1",
   "metadata": {},
   "source": [
    "What about current conditions? Are the routes powder (fresh, untracked snow), moguls(bumps on a ski run), gnarly (extreme conditions)\n",
    "\n",
    "Let's incorporate a table of weather data"
   ]
  }
 ],
 "metadata": {
  "kernelspec": {
   "display_name": "Python 3",
   "language": "python",
   "name": "python3"
  },
  "language_info": {
   "codemirror_mode": {
    "name": "ipython",
    "version": 3
   },
   "file_extension": ".py",
   "mimetype": "text/x-python",
   "name": "python",
   "nbconvert_exporter": "python",
   "pygments_lexer": "ipython3",
   "version": "3.12.0"
  }
 },
 "nbformat": 4,
 "nbformat_minor": 5
}
